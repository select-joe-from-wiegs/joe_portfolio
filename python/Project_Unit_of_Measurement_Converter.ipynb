{
 "cells": [
  {
   "cell_type": "markdown",
   "id": "e493cbbe-b07f-40cd-83c8-08bb898fafb1",
   "metadata": {},
   "source": [
    "# First Python Project!!!"
   ]
  },
  {
   "cell_type": "markdown",
   "id": "7e602f79-aebf-4892-8d8d-82163f342b14",
   "metadata": {},
   "source": [
    "## Unit of Measurement Converter"
   ]
  },
  {
   "cell_type": "code",
   "execution_count": 1,
   "id": "c08395df-78b2-4dc2-8e3b-aa19ec3d898d",
   "metadata": {},
   "outputs": [
    {
     "name": "stdin",
     "output_type": "stream",
     "text": [
      "Enter Starting Unit of Measurement (inches, feet, yards):  feet\n",
      "Enter Unit of Measurement to Convert to (inches, feet, yards):  inches\n",
      "Enter Starting Measurement in Inches:  96\n",
      "Enter Starting Measurement in Feet:  4\n",
      "Enter Starting Measurement in Yards:  6\n"
     ]
    }
   ],
   "source": [
    "convert_from = input(\"Enter Starting Unit of Measurement (inches, feet, yards): \")\n",
    "\n",
    "convert_to = input(\"Enter Unit of Measurement to Convert to (inches, feet, yards): \")\n",
    "\n",
    "number_of_inches = input(\"Enter Starting Measurement in Inches: \")\n",
    "\n",
    "number_of_feet = input(\"Enter Starting Measurement in Feet: \")\n",
    "\n",
    "number_of_yards = input(\"Enter Starting Measurement in Yards: \")"
   ]
  },
  {
   "cell_type": "code",
   "execution_count": 6,
   "id": "0c7c15be-6c55-4e94-b0ba-ecbf91e64250",
   "metadata": {},
   "outputs": [
    {
     "name": "stdin",
     "output_type": "stream",
     "text": [
      "Enter Starting Unit of Measurement (inches, feet, yards):  inches\n",
      "Enter Unit of Measurement to Convert to (inches, feet, yards):  feet\n",
      "Enter Starting Measurement in Inches:  36\n"
     ]
    },
    {
     "name": "stdout",
     "output_type": "stream",
     "text": [
      "3.0 feet\n"
     ]
    }
   ],
   "source": [
    "convert_from = input(\"Enter Starting Unit of Measurement (inches, feet, yards): \")\n",
    "\n",
    "convert_to = input(\"Enter Unit of Measurement to Convert to (inches, feet, yards): \")\n",
    "\n",
    "if convert_from == \"inches\":\n",
    "    number_of_inches = input(\"Enter Starting Measurement in Inches: \")\n",
    "    if convert_to == \"feet\":\n",
    "        print((int(number_of_inches) / 12), 'feet')\n",
    "    elif convert_to == \"yards\":\n",
    "        print((int(number_of_inches) / 36), 'yards')"
   ]
  },
  {
   "cell_type": "markdown",
   "id": "5a2ccdfd-657c-4db5-9e05-fdc0a5da893d",
   "metadata": {},
   "source": [
    "#### The above code is a great starting point, and I understand it all so far"
   ]
  },
  {
   "cell_type": "markdown",
   "id": "64c1cac0-2609-47a3-9ad4-d79df34cdc16",
   "metadata": {},
   "source": [
    "#### I will copy the code above and tinker with it now myself"
   ]
  },
  {
   "cell_type": "code",
   "execution_count": 18,
   "id": "19575357-751e-418a-8849-1c7d21d27991",
   "metadata": {},
   "outputs": [
    {
     "name": "stdin",
     "output_type": "stream",
     "text": [
      "Enter Starting Unit of Measurement (inches, feet, yards):  feet\n",
      "Enter Unit of Measurement to Convert to (inches, feet, yards):  inches\n",
      "Enter Starting Measurement in Feet:  67\n"
     ]
    },
    {
     "name": "stdout",
     "output_type": "stream",
     "text": [
      "804 inches\n"
     ]
    }
   ],
   "source": [
    "convert_from = input(\"Enter Starting Unit of Measurement (inches, feet, yards): \")\n",
    "\n",
    "convert_to = input(\"Enter Unit of Measurement to Convert to (inches, feet, yards): \")\n",
    "\n",
    "if convert_from == \"inches\":\n",
    "    number_of_inches = input(\"Enter Starting Measurement in Inches: \")\n",
    "    if convert_to == \"feet\":\n",
    "        print((int(number_of_inches) / 12), 'feet')\n",
    "    elif convert_to == \"yards\":\n",
    "        print((int(number_of_inches) / 36), 'yards')\n",
    "elif convert_from == \"feet\":\n",
    "    number_of_feet = input(\"Enter Starting Measurement in Feet: \")\n",
    "    if convert_to == \"inches\":\n",
    "        print((int(number_of_feet) * 12), 'inches')\n",
    "    elif convert_to == \"yards\":\n",
    "        print((int(number_of_feet) / 3), 'yards')\n",
    "elif convert_from == \"yards\":\n",
    "    number_of_yards = input(\"Enter Starting Measurement in Yards: \")\n",
    "    if convert_to == \"inches\":\n",
    "        print((int(number_of_yards) * 36), 'inches')\n",
    "    elif convert_to == \"feet\":\n",
    "        print((int(number_of_yards) * 3), 'feet')\n",
    "else:\n",
    "    print(\"Sorry, your input is not recognized by the Converter. Please try again.\")"
   ]
  },
  {
   "cell_type": "markdown",
   "id": "27335db8-4f14-4118-83dd-6aa910f6b839",
   "metadata": {},
   "source": [
    "### The code above is solid. Now, let's doctor it up"
   ]
  },
  {
   "cell_type": "code",
   "execution_count": 22,
   "id": "34868a82-748c-4d0d-b25f-03fd2d06df4e",
   "metadata": {},
   "outputs": [
    {
     "name": "stdin",
     "output_type": "stream",
     "text": [
      "Enter Starting Unit of Measurement (inches, feet, yards):  yd\n",
      "Enter Unit of Measurement to Convert to (inches, feet, yards):  ft\n",
      "Enter Starting Measurement in Yards:  43\n"
     ]
    },
    {
     "name": "stdout",
     "output_type": "stream",
     "text": [
      "129 feet\n"
     ]
    }
   ],
   "source": [
    "# What if someone typed 'Inches' instead of 'inches'? The code would error out\n",
    "# Why? Because our code is hardwired to the exact spelling and case of 'inches'\n",
    "# Idea to fix: we will make an in list, and also force use of lowercase using 'lower' function\n",
    "# By using the .lower() function, our list doesn't need \"Inches\", \"In\", \"IN\", \"INCH\", etc. all variation of that\n",
    "\n",
    "\n",
    "convert_from = input(\"Enter Starting Unit of Measurement (inches, feet, yards): \")\n",
    "\n",
    "convert_to = input(\"Enter Unit of Measurement to Convert to (inches, feet, yards): \")\n",
    "\n",
    "if convert_from.lower() in [\"inches\", \"in\", \"inch\"]:\n",
    "    number_of_inches = input(\"Enter Starting Measurement in Inches: \")\n",
    "    if convert_to.lower() in [\"feet\", \"ft\", \"foot\"]:\n",
    "        print((int(number_of_inches) / 12), 'feet')\n",
    "    elif convert_to.lower() in [\"yards\", \"yd\", \"yds\", \"yard\"]:\n",
    "        print((int(number_of_inches) / 36), 'yards')\n",
    "elif convert_from.lower() in [\"feet\", \"ft\", \"foot\"]:\n",
    "    number_of_feet = input(\"Enter Starting Measurement in Feet: \")\n",
    "    if convert_to.lower() in [\"inches\", \"in\", \"inch\"]:\n",
    "        print((int(number_of_feet) * 12), 'inches')\n",
    "    elif convert_to.lower() in [\"yards\", \"yd\", \"yds\", \"yard\"]:\n",
    "        print((int(number_of_feet) / 3), 'yards')\n",
    "elif convert_from.lower() in [\"yards\", \"yd\", \"yds\", \"yard\"]:\n",
    "    number_of_yards = input(\"Enter Starting Measurement in Yards: \")\n",
    "    if convert_to.lower() in [\"inches\", \"in\", \"inch\"]:\n",
    "        print((int(number_of_yards) * 36), 'inches')\n",
    "    elif convert_to.lower() in [\"feet\", \"ft\", \"foot\"]:\n",
    "        print((int(number_of_yards) * 3), 'feet')\n",
    "else:\n",
    "    print(\"Sorry, your input is not recognized by the Converter. Please try again.\")\n"
   ]
  },
  {
   "cell_type": "markdown",
   "id": "9474664d-1b4d-4903-9ee3-2c3d280b31b8",
   "metadata": {},
   "source": [
    "#### I like the way this is looking, but now let's print out a nicer final output"
   ]
  },
  {
   "cell_type": "code",
   "execution_count": 26,
   "id": "8cdf2622-d0cc-486d-8657-17690475690d",
   "metadata": {},
   "outputs": [
    {
     "name": "stdin",
     "output_type": "stream",
     "text": [
      "Enter Starting Unit of Measurement (inches, feet, yards):  inch\n",
      "Enter Unit of Measurement to Convert to (inches, feet, yards):  feet\n",
      "Enter Starting Measurement in Inches:  99\n"
     ]
    },
    {
     "name": "stdout",
     "output_type": "stream",
     "text": [
      "99 inches = 8.2 feet\n"
     ]
    }
   ],
   "source": [
    "# We want the final output to say more than just 'x feet'\n",
    "# We want something more like 'y inches = x feet'\n",
    "# Also in this code I added the round() function to the output\n",
    "\n",
    "\n",
    "convert_from = input(\"Enter Starting Unit of Measurement (inches, feet, yards): \")\n",
    "\n",
    "convert_to = input(\"Enter Unit of Measurement to Convert to (inches, feet, yards): \")\n",
    "\n",
    "if convert_from.lower() in [\"inches\", \"in\", \"inch\"]:\n",
    "    number_of_inches = input(\"Enter Starting Measurement in Inches: \")\n",
    "    if convert_to.lower() in [\"feet\", \"ft\", \"foot\"]:\n",
    "        print(number_of_inches, 'inches =' , round((int(number_of_inches) / 12),1), 'feet')\n",
    "    elif convert_to.lower() in [\"yards\", \"yd\", \"yds\", \"yard\"]:\n",
    "        print(number_of_inches, 'inches =' , round((int(number_of_inches) / 36),1), 'yards')\n",
    "elif convert_from.lower() in [\"feet\", \"ft\", \"foot\"]:\n",
    "    number_of_feet = input(\"Enter Starting Measurement in Feet: \")\n",
    "    if convert_to.lower() in [\"inches\", \"in\", \"inch\"]:\n",
    "        print(number_of_feet, 'feet =' , round((int(number_of_feet) * 12),), 'inches')\n",
    "    elif convert_to.lower() in [\"yards\", \"yd\", \"yds\", \"yard\"]:\n",
    "        print(number_of_feet, 'feet =' , round((int(number_of_feet) / 3),1), 'yards')\n",
    "elif convert_from.lower() in [\"yards\", \"yd\", \"yds\", \"yard\"]:\n",
    "    number_of_yards = input(\"Enter Starting Measurement in Yards: \")\n",
    "    if convert_to.lower() in [\"inches\", \"in\", \"inch\"]:\n",
    "        print(number_of_yards, 'yards =' , round((int(number_of_yards) * 36),1), 'inches')\n",
    "    elif convert_to.lower() in [\"feet\", \"ft\", \"foot\"]:\n",
    "        print(number_of_yards, 'yards =' , round((int(number_of_yards) * 3),1), 'feet')\n",
    "else:\n",
    "    print(\"Sorry, your input is not recognized by the Converter. Please enter either Inches, Feet, or Yards.\")\n"
   ]
  },
  {
   "cell_type": "code",
   "execution_count": 30,
   "id": "a105e423-10c7-4ac3-bdb6-409523aca64d",
   "metadata": {},
   "outputs": [
    {
     "name": "stdin",
     "output_type": "stream",
     "text": [
      "Enter Starting Unit of Measurement (inches, feet, yards):  feet\n",
      "Enter Unit of Measurement to Convert to (inches, feet, yards):  inches\n",
      "Enter Starting Measurement in Feet:  6\n"
     ]
    },
    {
     "name": "stdout",
     "output_type": "stream",
     "text": [
      "6 feet = 72 inches\n"
     ]
    }
   ],
   "source": [
    "# Adding else statements to each block\n",
    "\n",
    "convert_from = input(\"Enter Starting Unit of Measurement (inches, feet, yards): \")\n",
    "\n",
    "convert_to = input(\"Enter Unit of Measurement to Convert to (inches, feet, yards): \")\n",
    "\n",
    "if convert_from.lower() in [\"inches\", \"in\", \"inch\"]:\n",
    "    number_of_inches = input(\"Enter Starting Measurement in Inches: \")\n",
    "    if convert_to.lower() in [\"feet\", \"ft\", \"foot\"]:\n",
    "        print(number_of_inches, 'inches =' , round((int(number_of_inches) / 12),1), 'feet')\n",
    "    elif convert_to.lower() in [\"yards\", \"yd\", \"yds\", \"yard\"]:\n",
    "        print(number_of_inches, 'inches =' , round((int(number_of_inches) / 36),1), 'yards')\n",
    "    else:\n",
    "        print(\"Sorry, your input is not recognized by the Converter. Please enter either Inches, Feet, or Yards.\")\n",
    "elif convert_from.lower() in [\"feet\", \"ft\", \"foot\"]:\n",
    "    number_of_feet = input(\"Enter Starting Measurement in Feet: \")\n",
    "    if convert_to.lower() in [\"inches\", \"in\", \"inch\"]:\n",
    "        print(number_of_feet, 'feet =' , round((int(number_of_feet) * 12),), 'inches')\n",
    "    elif convert_to.lower() in [\"yards\", \"yd\", \"yds\", \"yard\"]:\n",
    "        print(number_of_feet, 'feet =' , round((int(number_of_feet) / 3),1), 'yards')\n",
    "    else:\n",
    "        print(\"Sorry, your input is not recognized by the Converter. Please enter either Inches, Feet, or Yards.\")\n",
    "elif convert_from.lower() in [\"yards\", \"yd\", \"yds\", \"yard\"]:\n",
    "    number_of_yards = input(\"Enter Starting Measurement in Yards: \")\n",
    "    if convert_to.lower() in [\"inches\", \"in\", \"inch\"]:\n",
    "        print(number_of_yards, 'yards =' , round((int(number_of_yards) * 36),1), 'inches')\n",
    "    elif convert_to.lower() in [\"feet\", \"ft\", \"foot\"]:\n",
    "        print(number_of_yards, 'yards =' , round((int(number_of_yards) * 3),1), 'feet')\n",
    "    else:\n",
    "        print(\"Sorry, your input is not recognized by the Converter. Please enter either Inches, Feet, or Yards.\")\n",
    "else:\n",
    "    print(\"Sorry, your input is not recognized by the Converter. Please enter either Inches, Feet, or Yards.\")"
   ]
  },
  {
   "cell_type": "markdown",
   "id": "a962e7a1-e188-4f37-8adf-b731c3190e34",
   "metadata": {},
   "source": [
    "### I love this, but I want to explore how to change this code so the input can also be a float rather than integer"
   ]
  },
  {
   "cell_type": "code",
   "execution_count": 3,
   "id": "eafac461-3da9-40d8-b15b-343242cbe82e",
   "metadata": {},
   "outputs": [
    {
     "name": "stdin",
     "output_type": "stream",
     "text": [
      "Enter Starting Unit of Measurement (inches, feet, yards):  in\n",
      "Enter Unit of Measurement to Convert to (inches, feet, yards):  ft\n",
      "Enter Starting Measurement in Inches:  66\n"
     ]
    },
    {
     "name": "stdout",
     "output_type": "stream",
     "text": [
      "66.0 inches = 5.5 feet\n"
     ]
    }
   ],
   "source": [
    "# Trying to allow float inputs\n",
    "\n",
    "convert_from = input(\"Enter Starting Unit of Measurement (inches, feet, yards): \")\n",
    "\n",
    "convert_to = input(\"Enter Unit of Measurement to Convert to (inches, feet, yards): \")\n",
    "\n",
    "if convert_from.lower() in [\"inches\", \"in\", \"inch\"]:\n",
    "    number_of_inches = float(input(\"Enter Starting Measurement in Inches: \"))\n",
    "    if convert_to.lower() in [\"feet\", \"ft\", \"foot\"]:\n",
    "        print(number_of_inches, 'inches =' , round((int(number_of_inches) / 12),1), 'feet')\n",
    "    elif convert_to.lower() in [\"yards\", \"yd\", \"yds\", \"yard\"]:\n",
    "        print(number_of_inches, 'inches =' , round((int(number_of_inches) / 36),1), 'yards')\n",
    "    else:\n",
    "        print(\"Sorry, your input is not recognized by the Converter. Please enter either Inches, Feet, or Yards.\")\n",
    "elif convert_from.lower() in [\"feet\", \"ft\", \"foot\"]:\n",
    "    number_of_feet = float(input(\"Enter Starting Measurement in Feet: \"))\n",
    "    if convert_to.lower() in [\"inches\", \"in\", \"inch\"]:\n",
    "        print(number_of_feet, 'feet =' , round((int(number_of_feet) * 12),), 'inches')\n",
    "    elif convert_to.lower() in [\"yards\", \"yd\", \"yds\", \"yard\"]:\n",
    "        print(number_of_feet, 'feet =' , round((int(number_of_feet) / 3),1), 'yards')\n",
    "    else:\n",
    "        print(\"Sorry, your input is not recognized by the Converter. Please enter either Inches, Feet, or Yards.\")\n",
    "elif convert_from.lower() in [\"yards\", \"yd\", \"yds\", \"yard\"]:\n",
    "    number_of_yards = float(input(\"Enter Starting Measurement in Yards: \"))\n",
    "    if convert_to.lower() in [\"inches\", \"in\", \"inch\"]:\n",
    "        print(number_of_yards, 'yards =' , round((int(number_of_yards) * 36),1), 'inches')\n",
    "    elif convert_to.lower() in [\"feet\", \"ft\", \"foot\"]:\n",
    "        print(number_of_yards, 'yards =' , round((int(number_of_yards) * 3),1), 'feet')\n",
    "    else:\n",
    "        print(\"Sorry, your input is not recognized by the Converter. Please enter either Inches, Feet, or Yards.\")\n",
    "else:\n",
    "    print(\"Sorry, your input is not recognized by the Converter. Please enter either Inches, Feet, or Yards.\")"
   ]
  },
  {
   "cell_type": "code",
   "execution_count": null,
   "id": "12f444fe-20c1-4a03-a1fd-42f3d6055a65",
   "metadata": {},
   "outputs": [],
   "source": []
  },
  {
   "cell_type": "code",
   "execution_count": null,
   "id": "1e3c1013-eac1-488d-8412-f960fc503d08",
   "metadata": {},
   "outputs": [],
   "source": []
  },
  {
   "cell_type": "code",
   "execution_count": null,
   "id": "f5a77b0a-8401-4d0b-a670-69918ceadd14",
   "metadata": {},
   "outputs": [],
   "source": []
  },
  {
   "cell_type": "code",
   "execution_count": null,
   "id": "ce89bb9e-2fec-4514-8f19-5ce5f76c34b6",
   "metadata": {},
   "outputs": [],
   "source": []
  },
  {
   "cell_type": "code",
   "execution_count": null,
   "id": "80c07144-b394-4fe7-97b7-baf466ea733a",
   "metadata": {},
   "outputs": [],
   "source": []
  },
  {
   "cell_type": "code",
   "execution_count": null,
   "id": "a2b77dd1-b46c-4855-b303-2bf11b03d9e7",
   "metadata": {},
   "outputs": [],
   "source": []
  },
  {
   "cell_type": "code",
   "execution_count": null,
   "id": "06cb694b-5283-4426-bd4c-9283b5a3610d",
   "metadata": {},
   "outputs": [],
   "source": []
  },
  {
   "cell_type": "code",
   "execution_count": null,
   "id": "ad3ed359-38f0-472f-a1be-226ee3a04d10",
   "metadata": {},
   "outputs": [],
   "source": []
  },
  {
   "cell_type": "code",
   "execution_count": null,
   "id": "33e4f4cd-e2d9-413c-a4dd-2b4f59cd5e8a",
   "metadata": {},
   "outputs": [],
   "source": []
  },
  {
   "cell_type": "code",
   "execution_count": null,
   "id": "24db4c73-91d6-46d2-bec3-d25f9214bec4",
   "metadata": {},
   "outputs": [],
   "source": []
  },
  {
   "cell_type": "code",
   "execution_count": null,
   "id": "a308344b-276c-4834-b15b-e98d169e72af",
   "metadata": {},
   "outputs": [],
   "source": []
  },
  {
   "cell_type": "code",
   "execution_count": null,
   "id": "6747c464-d542-49bd-82ec-8cd1bf711a5c",
   "metadata": {},
   "outputs": [],
   "source": []
  }
 ],
 "metadata": {
  "kernelspec": {
   "display_name": "Python [conda env:base] *",
   "language": "python",
   "name": "conda-base-py"
  },
  "language_info": {
   "codemirror_mode": {
    "name": "ipython",
    "version": 3
   },
   "file_extension": ".py",
   "mimetype": "text/x-python",
   "name": "python",
   "nbconvert_exporter": "python",
   "pygments_lexer": "ipython3",
   "version": "3.12.7"
  }
 },
 "nbformat": 4,
 "nbformat_minor": 5
}
