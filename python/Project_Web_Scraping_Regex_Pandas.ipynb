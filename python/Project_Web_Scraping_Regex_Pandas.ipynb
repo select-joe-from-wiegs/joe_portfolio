{
 "cells": [
  {
   "cell_type": "markdown",
   "id": "a1ed5f7a-5782-43a6-aa0c-2f1e6baa11e0",
   "metadata": {},
   "source": [
    "# Web Scraping & Regular Expression & Pandas!!!"
   ]
  },
  {
   "cell_type": "markdown",
   "id": "71bec8fd-66e2-4786-b1c6-98c58d2b7ef5",
   "metadata": {},
   "source": [
    "## Looking at A LOT of text, and breaking it up"
   ]
  },
  {
   "cell_type": "markdown",
   "id": "bf3907c8-e802-4063-b0bb-63389b17e9eb",
   "metadata": {},
   "source": [
    "### MLK Jr Speech - what words he used the most, get count of words"
   ]
  },
  {
   "cell_type": "code",
   "execution_count": 1,
   "id": "dbbdaec6-b63b-48ff-bbf4-c57d814ce8aa",
   "metadata": {},
   "outputs": [],
   "source": [
    "from bs4 import BeautifulSoup\n",
    "import requests"
   ]
  },
  {
   "cell_type": "code",
   "execution_count": 2,
   "id": "00283931-6373-4aff-86ca-742ed0b86541",
   "metadata": {},
   "outputs": [],
   "source": [
    "url = 'http://www.analytictech.com/mb021/mlk.htm'\n",
    "\n",
    "page = requests.get(url)\n",
    "\n",
    "soup = BeautifulSoup(page.text, 'html.parser')"
   ]
  },
  {
   "cell_type": "code",
   "execution_count": null,
   "id": "384a7670-86ca-496c-be85-5585db03e16a",
   "metadata": {},
   "outputs": [],
   "source": [
    "print(soup)"
   ]
  },
  {
   "cell_type": "code",
   "execution_count": 5,
   "id": "67b01a93-20ca-4838-9401-5b8b5d4cb979",
   "metadata": {},
   "outputs": [],
   "source": [
    "mlkjr_speech = soup.find_all('p')"
   ]
  },
  {
   "cell_type": "code",
   "execution_count": 8,
   "id": "994ac1b4-b074-4a16-b317-3f1ee0d5b877",
   "metadata": {},
   "outputs": [
    {
     "name": "stdout",
     "output_type": "stream",
     "text": [
      "['I am happy to join with you today in what will go down in\\r\\nhistory as the greatest demonstration for freedom in the history\\r\\nof our nation.', 'Five score years ago a great American in whose symbolic shadow\\r\\nwe stand today signed the Emancipation Proclamation. This\\r\\nmomentous decree came as a great beckoning light of hope to\\r\\nmillions of Negro slaves who had been seared in the flames of\\r\\nwithering injustice. It came as a joyous daybreak to end the long\\r\\nnight of their captivity.', 'But one hundred years later the Negro is still not free. One\\r\\nhundred years later the life of the Negro is still sadly crippled\\r\\nby the manacles of segregation and the chains of discrimination.', 'One hundred years later the Negro lives on a lonely island of\\r\\npoverty in the midst of a vast ocean of material prosperity.', 'One hundred years later the Negro is still languishing in the\\r\\ncomers of American society and finds himself in exile in his own\\r\\nland.', \"We all have come to this hallowed spot to remind America of\\r\\nthe fierce urgency of now. Now is the time to rise from the dark\\r\\nand desolate valley of segregation to the sunlit path of racial\\r\\njustice. Now is the time to change racial injustice to the solid\\r\\nrock of brotherhood. Now is the time to make justice ring out for\\r\\nall of God's children.\", 'There will be neither rest nor tranquility in America until\\r\\nthe Negro is granted citizenship rights.', 'We must forever conduct our struggle on the high plane of\\r\\ndignity and discipline. We must not allow our creative protest to\\r\\ndegenerate into physical violence. Again and again we must rise\\r\\nto the majestic heights of meeting physical force with soul\\r\\nforce.', 'And the marvelous new militarism which has engulfed the Negro\\r\\ncommunity must not lead us to a distrust of all white people, for\\r\\nmany of our white brothers have evidenced by their presence here\\r\\ntoday that they have come to realize that their destiny is part\\r\\nof our destiny.', 'So even though we face the difficulties of today and tomorrow\\r\\nI still have a dream. It is a dream deeply rooted in the American\\r\\ndream.', 'I have a dream that one day this nation will rise up and live\\r\\nout the true meaning of its creed: \\'We hold these truths to be\\r\\nself-evident; that all men are created equal.\"', 'I have a dream that one day on the red hills of Georgia the\\r\\nsons of former slaves and the sons of former slave owners will be\\r\\nable to sit together at the table of brotherhood.', 'I have a dream that one day even the state of Mississippi, a\\r\\nstate sweltering with the heat of injustice, sweltering with the\\r\\nheat of oppression, will be transformed into an oasis of freedom\\r\\nand justice.', 'I have a dream that little children will one day live in a\\r\\nnation where they will not be judged by the color of their skin\\r\\nbut by the content of their character.', 'I have a dream today.', 'I have a dream that one day down in Alabama, with its vicious\\r\\nracists, with its Governor having his lips dripping with the\\r\\nwords of interposition and nullification, one day right there in\\r\\nAlabama little black boys and black girls will be able to join\\r\\nhands with little white boys and white girls as sisters and\\r\\nbrothers.', 'I have a dream today.', 'I have a dream that one day every valley shall be exalted,\\r\\nevery hill and mountain shall be made low, the rough places\\r\\nplains, and the crooked places will be made straight, and before\\r\\nthe Lord will be revealed, and all flesh shall see it together.', 'This is our hope. This is the faith that I go back to the\\r\\nmount with. With this faith we will be able to hew out of the\\r\\nmountain of despair a stone of hope. With this faith we will be\\r\\nable to transform the genuine discords of our nation into a\\r\\nbeautiful symphony of brotherhood. With this faith we will be\\r\\nable to work together, pray together; to struggle together, to go\\r\\nto jail together, to stand up for freedom forever, )mowing that\\r\\nwe will be free one day.', 'And I say to you today my friends, let freedom ring. From the\\r\\nprodigious hilltops of New Hampshire, let freedom ring. From the\\r\\nmighty mountains of New York, let freedom ring. From the mighty\\r\\nAlleghenies of Pennsylvania!', 'Let freedom ring from the snow capped Rockies of Colorado!', 'Let freedom ring from the curvaceous slopes of California!', 'But not only there; let freedom ring from the Stone Mountain\\r\\nof Georgia!', 'Let freedom ring from Lookout Mountain in Tennessee!', 'Let freedom ring from every hill and molehill in Mississippi.\\r\\nFrom every mountainside, let freedom ring.', 'And when this happens, when we allow freedom to ring, when we\\r\\nlet it ring from every village and hamlet, from every state and\\r\\nevery city, we will be able to speed up that day when all of\\r\\nGod\\'s children, black men and white men, Jews and Gentiles,\\r\\nProtestants and Catholics, will be able to join hands and sing in\\r\\nthe words of the old Negro spiritual, \"Free at last! Free at\\r\\nlast! Thank God almighty, we\\'re free at last!\"']\n"
     ]
    }
   ],
   "source": [
    "speech_combined = [p.text.strip() for p in mlkjr_speech]\n",
    "print(speech_combined)\n",
    "\n",
    "# Using p.text.strip() we can get a cleaner output,\n",
    "# but this still doesn't look great...\n",
    "# We still have commas, and \\r\\n breaks..."
   ]
  },
  {
   "cell_type": "code",
   "execution_count": 9,
   "id": "1e094444-2aa0-4484-ad14-22ff7d494cc1",
   "metadata": {},
   "outputs": [
    {
     "data": {
      "text/plain": [
       "'I am happy to join with you today in what will go down in\\r\\nhistory as the greatest demonstration for freedom in the history\\r\\nof our nation. Five score years ago a great American in whose symbolic shadow\\r\\nwe stand today signed the Emancipation Proclamation. This\\r\\nmomentous decree came as a great beckoning light of hope to\\r\\nmillions of Negro slaves who had been seared in the flames of\\r\\nwithering injustice. It came as a joyous daybreak to end the long\\r\\nnight of their captivity. But one hundred years later the Negro is still not free. One\\r\\nhundred years later the life of the Negro is still sadly crippled\\r\\nby the manacles of segregation and the chains of discrimination. One hundred years later the Negro lives on a lonely island of\\r\\npoverty in the midst of a vast ocean of material prosperity. One hundred years later the Negro is still languishing in the\\r\\ncomers of American society and finds himself in exile in his own\\r\\nland. We all have come to this hallowed spot to remind America of\\r\\nthe fierce urgency of now. Now is the time to rise from the dark\\r\\nand desolate valley of segregation to the sunlit path of racial\\r\\njustice. Now is the time to change racial injustice to the solid\\r\\nrock of brotherhood. Now is the time to make justice ring out for\\r\\nall of God\\'s children. There will be neither rest nor tranquility in America until\\r\\nthe Negro is granted citizenship rights. We must forever conduct our struggle on the high plane of\\r\\ndignity and discipline. We must not allow our creative protest to\\r\\ndegenerate into physical violence. Again and again we must rise\\r\\nto the majestic heights of meeting physical force with soul\\r\\nforce. And the marvelous new militarism which has engulfed the Negro\\r\\ncommunity must not lead us to a distrust of all white people, for\\r\\nmany of our white brothers have evidenced by their presence here\\r\\ntoday that they have come to realize that their destiny is part\\r\\nof our destiny. So even though we face the difficulties of today and tomorrow\\r\\nI still have a dream. It is a dream deeply rooted in the American\\r\\ndream. I have a dream that one day this nation will rise up and live\\r\\nout the true meaning of its creed: \\'We hold these truths to be\\r\\nself-evident; that all men are created equal.\" I have a dream that one day on the red hills of Georgia the\\r\\nsons of former slaves and the sons of former slave owners will be\\r\\nable to sit together at the table of brotherhood. I have a dream that one day even the state of Mississippi, a\\r\\nstate sweltering with the heat of injustice, sweltering with the\\r\\nheat of oppression, will be transformed into an oasis of freedom\\r\\nand justice. I have a dream that little children will one day live in a\\r\\nnation where they will not be judged by the color of their skin\\r\\nbut by the content of their character. I have a dream today. I have a dream that one day down in Alabama, with its vicious\\r\\nracists, with its Governor having his lips dripping with the\\r\\nwords of interposition and nullification, one day right there in\\r\\nAlabama little black boys and black girls will be able to join\\r\\nhands with little white boys and white girls as sisters and\\r\\nbrothers. I have a dream today. I have a dream that one day every valley shall be exalted,\\r\\nevery hill and mountain shall be made low, the rough places\\r\\nplains, and the crooked places will be made straight, and before\\r\\nthe Lord will be revealed, and all flesh shall see it together. This is our hope. This is the faith that I go back to the\\r\\nmount with. With this faith we will be able to hew out of the\\r\\nmountain of despair a stone of hope. With this faith we will be\\r\\nable to transform the genuine discords of our nation into a\\r\\nbeautiful symphony of brotherhood. With this faith we will be\\r\\nable to work together, pray together; to struggle together, to go\\r\\nto jail together, to stand up for freedom forever, )mowing that\\r\\nwe will be free one day. And I say to you today my friends, let freedom ring. From the\\r\\nprodigious hilltops of New Hampshire, let freedom ring. From the\\r\\nmighty mountains of New York, let freedom ring. From the mighty\\r\\nAlleghenies of Pennsylvania! Let freedom ring from the snow capped Rockies of Colorado! Let freedom ring from the curvaceous slopes of California! But not only there; let freedom ring from the Stone Mountain\\r\\nof Georgia! Let freedom ring from Lookout Mountain in Tennessee! Let freedom ring from every hill and molehill in Mississippi.\\r\\nFrom every mountainside, let freedom ring. And when this happens, when we allow freedom to ring, when we\\r\\nlet it ring from every village and hamlet, from every state and\\r\\nevery city, we will be able to speed up that day when all of\\r\\nGod\\'s children, black men and white men, Jews and Gentiles,\\r\\nProtestants and Catholics, will be able to join hands and sing in\\r\\nthe words of the old Negro spiritual, \"Free at last! Free at\\r\\nlast! Thank God almighty, we\\'re free at last!\"'"
      ]
     },
     "execution_count": 9,
     "metadata": {},
     "output_type": "execute_result"
    }
   ],
   "source": [
    "# We're going to use the join function\n",
    "\n",
    "string_speech = ' '.join(speech_combined)\n",
    "string_speech"
   ]
  },
  {
   "cell_type": "code",
   "execution_count": null,
   "id": "3ea5c948-33cb-4355-a680-1126bf723954",
   "metadata": {},
   "outputs": [],
   "source": [
    "# At this point, we're just cleaning data\n",
    "\n",
    "string_speech.replace('\\r\\n', ' ')"
   ]
  },
  {
   "cell_type": "code",
   "execution_count": 13,
   "id": "c38697a4-a925-4c59-bae5-cf61c9cf3fca",
   "metadata": {},
   "outputs": [],
   "source": [
    "a_lil_clean = string_speech.replace('\\r\\n', ' ')"
   ]
  },
  {
   "cell_type": "code",
   "execution_count": null,
   "id": "cd91220c-6430-4618-97f5-b4c749f0370a",
   "metadata": {},
   "outputs": [],
   "source": [
    "a_lil_clean.replace(r\"\\'\", \"'\")"
   ]
  },
  {
   "cell_type": "code",
   "execution_count": 16,
   "id": "00a01c32-3e95-45e4-9899-b7023e2d513e",
   "metadata": {},
   "outputs": [
    {
     "name": "stdout",
     "output_type": "stream",
     "text": [
      "True\n"
     ]
    }
   ],
   "source": [
    "print(\"we're\" in a_lil_clean)  # Should be True"
   ]
  },
  {
   "cell_type": "code",
   "execution_count": 17,
   "id": "11ac9ffb-e8cf-4995-bfb8-93d457cb868f",
   "metadata": {},
   "outputs": [
    {
     "name": "stdout",
     "output_type": "stream",
     "text": [
      "True\n"
     ]
    }
   ],
   "source": [
    "print(\"God's\" in a_lil_clean)  # Should be True\n"
   ]
  },
  {
   "cell_type": "code",
   "execution_count": 18,
   "id": "acac3e85-d0b6-49fa-949f-25f43a069691",
   "metadata": {},
   "outputs": [
    {
     "name": "stdout",
     "output_type": "stream",
     "text": [
      "I am happy to join with you today in what will go down in history as the greatest demonstration for freedom in the history of our nation. Five score years ago a great American in whose symbolic shadow we stand today signed the Emancipation Proclamation. This momentous decree came as a great beckoning light of hope to millions of Negro slaves who had been seared in the flames of withering injustice. It came as a joyous daybreak to end the long night of their captivity. But one hundred years later the Negro is still not free. One hundred years later the life of the Negro is still sadly crippled by the manacles of segregation and the chains of discrimination. One hundred years later the Negro lives on a lonely island of poverty in the midst of a vast ocean of material prosperity. One hundred years later the Negro is still languishing in the comers of American society and finds himself in exile in his own land. We all have come to this hallowed spot to remind America of the fierce urgency of now. Now is the time to rise from the dark and desolate valley of segregation to the sunlit path of racial justice. Now is the time to change racial injustice to the solid rock of brotherhood. Now is the time to make justice ring out for all of God's children. There will be neither rest nor tranquility in America until the Negro is granted citizenship rights. We must forever conduct our struggle on the high plane of dignity and discipline. We must not allow our creative protest to degenerate into physical violence. Again and again we must rise to the majestic heights of meeting physical force with soul force. And the marvelous new militarism which has engulfed the Negro community must not lead us to a distrust of all white people, for many of our white brothers have evidenced by their presence here today that they have come to realize that their destiny is part of our destiny. So even though we face the difficulties of today and tomorrow I still have a dream. It is a dream deeply rooted in the American dream. I have a dream that one day this nation will rise up and live out the true meaning of its creed: 'We hold these truths to be self-evident; that all men are created equal.\" I have a dream that one day on the red hills of Georgia the sons of former slaves and the sons of former slave owners will be able to sit together at the table of brotherhood. I have a dream that one day even the state of Mississippi, a state sweltering with the heat of injustice, sweltering with the heat of oppression, will be transformed into an oasis of freedom and justice. I have a dream that little children will one day live in a nation where they will not be judged by the color of their skin but by the content of their character. I have a dream today. I have a dream that one day down in Alabama, with its vicious racists, with its Governor having his lips dripping with the words of interposition and nullification, one day right there in Alabama little black boys and black girls will be able to join hands with little white boys and white girls as sisters and brothers. I have a dream today. I have a dream that one day every valley shall be exalted, every hill and mountain shall be made low, the rough places plains, and the crooked places will be made straight, and before the Lord will be revealed, and all flesh shall see it together. This is our hope. This is the faith that I go back to the mount with. With this faith we will be able to hew out of the mountain of despair a stone of hope. With this faith we will be able to transform the genuine discords of our nation into a beautiful symphony of brotherhood. With this faith we will be able to work together, pray together; to struggle together, to go to jail together, to stand up for freedom forever, )mowing that we will be free one day. And I say to you today my friends, let freedom ring. From the prodigious hilltops of New Hampshire, let freedom ring. From the mighty mountains of New York, let freedom ring. From the mighty Alleghenies of Pennsylvania! Let freedom ring from the snow capped Rockies of Colorado! Let freedom ring from the curvaceous slopes of California! But not only there; let freedom ring from the Stone Mountain of Georgia! Let freedom ring from Lookout Mountain in Tennessee! Let freedom ring from every hill and molehill in Mississippi. From every mountainside, let freedom ring. And when this happens, when we allow freedom to ring, when we let it ring from every village and hamlet, from every state and every city, we will be able to speed up that day when all of God's children, black men and white men, Jews and Gentiles, Protestants and Catholics, will be able to join hands and sing in the words of the old Negro spiritual, \"Free at last! Free at last! Thank God almighty, we're free at last!\"\n"
     ]
    }
   ],
   "source": [
    "print(a_lil_clean)\n"
   ]
  },
  {
   "cell_type": "code",
   "execution_count": 19,
   "id": "663bd7e1-4bc2-43d5-91a2-3ad221d5c0ba",
   "metadata": {},
   "outputs": [],
   "source": [
    "import re"
   ]
  },
  {
   "cell_type": "code",
   "execution_count": 20,
   "id": "cd79cfb5-0f39-4e8d-90f4-860b34435f7d",
   "metadata": {},
   "outputs": [
    {
     "data": {
      "text/plain": [
       "'i am happy to join with you today in what will go down in history as the greatest demonstration for freedom in the history of our nation. five score years ago a great american in whose symbolic shadow we stand today signed the emancipation proclamation. this momentous decree came as a great beckoning light of hope to millions of negro slaves who had been seared in the flames of withering injustice. it came as a joyous daybreak to end the long night of their captivity. but one hundred years later the negro is still not free. one hundred years later the life of the negro is still sadly crippled by the manacles of segregation and the chains of discrimination. one hundred years later the negro lives on a lonely island of poverty in the midst of a vast ocean of material prosperity. one hundred years later the negro is still languishing in the comers of american society and finds himself in exile in his own land. we all have come to this hallowed spot to remind america of the fierce urgency of now. now is the time to rise from the dark and desolate valley of segregation to the sunlit path of racial justice. now is the time to change racial injustice to the solid rock of brotherhood. now is the time to make justice ring out for all of god\\'s children. there will be neither rest nor tranquility in america until the negro is granted citizenship rights. we must forever conduct our struggle on the high plane of dignity and discipline. we must not allow our creative protest to degenerate into physical violence. again and again we must rise to the majestic heights of meeting physical force with soul force. and the marvelous new militarism which has engulfed the negro community must not lead us to a distrust of all white people, for many of our white brothers have evidenced by their presence here today that they have come to realize that their destiny is part of our destiny. so even though we face the difficulties of today and tomorrow i still have a dream. it is a dream deeply rooted in the american dream. i have a dream that one day this nation will rise up and live out the true meaning of its creed: \\'we hold these truths to be self-evident; that all men are created equal.\" i have a dream that one day on the red hills of georgia the sons of former slaves and the sons of former slave owners will be able to sit together at the table of brotherhood. i have a dream that one day even the state of mississippi, a state sweltering with the heat of injustice, sweltering with the heat of oppression, will be transformed into an oasis of freedom and justice. i have a dream that little children will one day live in a nation where they will not be judged by the color of their skin but by the content of their character. i have a dream today. i have a dream that one day down in alabama, with its vicious racists, with its governor having his lips dripping with the words of interposition and nullification, one day right there in alabama little black boys and black girls will be able to join hands with little white boys and white girls as sisters and brothers. i have a dream today. i have a dream that one day every valley shall be exalted, every hill and mountain shall be made low, the rough places plains, and the crooked places will be made straight, and before the lord will be revealed, and all flesh shall see it together. this is our hope. this is the faith that i go back to the mount with. with this faith we will be able to hew out of the mountain of despair a stone of hope. with this faith we will be able to transform the genuine discords of our nation into a beautiful symphony of brotherhood. with this faith we will be able to work together, pray together; to struggle together, to go to jail together, to stand up for freedom forever, )mowing that we will be free one day. and i say to you today my friends, let freedom ring. from the prodigious hilltops of new hampshire, let freedom ring. from the mighty mountains of new york, let freedom ring. from the mighty alleghenies of pennsylvania! let freedom ring from the snow capped rockies of colorado! let freedom ring from the curvaceous slopes of california! but not only there; let freedom ring from the stone mountain of georgia! let freedom ring from lookout mountain in tennessee! let freedom ring from every hill and molehill in mississippi. from every mountainside, let freedom ring. and when this happens, when we allow freedom to ring, when we let it ring from every village and hamlet, from every state and every city, we will be able to speed up that day when all of god\\'s children, black men and white men, jews and gentiles, protestants and catholics, will be able to join hands and sing in the words of the old negro spiritual, \"free at last! free at last! thank god almighty, we\\'re free at last!\"'"
      ]
     },
     "execution_count": 20,
     "metadata": {},
     "output_type": "execute_result"
    }
   ],
   "source": [
    "\n",
    "# Step 1: Lowercase everything\n",
    "cleaned = a_lil_clean.lower()\n",
    "cleaned"
   ]
  },
  {
   "cell_type": "code",
   "execution_count": 21,
   "id": "6d890b9f-0377-4527-80ff-bdac4c60726e",
   "metadata": {},
   "outputs": [
    {
     "data": {
      "text/plain": [
       "\"i am happy to join with you today in what will go down in history as the greatest demonstration for freedom in the history of our nation five score years ago a great american in whose symbolic shadow we stand today signed the emancipation proclamation this momentous decree came as a great beckoning light of hope to millions of negro slaves who had been seared in the flames of withering injustice it came as a joyous daybreak to end the long night of their captivity but one hundred years later the negro is still not free one hundred years later the life of the negro is still sadly crippled by the manacles of segregation and the chains of discrimination one hundred years later the negro lives on a lonely island of poverty in the midst of a vast ocean of material prosperity one hundred years later the negro is still languishing in the comers of american society and finds himself in exile in his own land we all have come to this hallowed spot to remind america of the fierce urgency of now now is the time to rise from the dark and desolate valley of segregation to the sunlit path of racial justice now is the time to change racial injustice to the solid rock of brotherhood now is the time to make justice ring out for all of god's children there will be neither rest nor tranquility in america until the negro is granted citizenship rights we must forever conduct our struggle on the high plane of dignity and discipline we must not allow our creative protest to degenerate into physical violence again and again we must rise to the majestic heights of meeting physical force with soul force and the marvelous new militarism which has engulfed the negro community must not lead us to a distrust of all white people for many of our white brothers have evidenced by their presence here today that they have come to realize that their destiny is part of our destiny so even though we face the difficulties of today and tomorrow i still have a dream it is a dream deeply rooted in the american dream i have a dream that one day this nation will rise up and live out the true meaning of its creed 'we hold these truths to be selfevident that all men are created equal i have a dream that one day on the red hills of georgia the sons of former slaves and the sons of former slave owners will be able to sit together at the table of brotherhood i have a dream that one day even the state of mississippi a state sweltering with the heat of injustice sweltering with the heat of oppression will be transformed into an oasis of freedom and justice i have a dream that little children will one day live in a nation where they will not be judged by the color of their skin but by the content of their character i have a dream today i have a dream that one day down in alabama with its vicious racists with its governor having his lips dripping with the words of interposition and nullification one day right there in alabama little black boys and black girls will be able to join hands with little white boys and white girls as sisters and brothers i have a dream today i have a dream that one day every valley shall be exalted every hill and mountain shall be made low the rough places plains and the crooked places will be made straight and before the lord will be revealed and all flesh shall see it together this is our hope this is the faith that i go back to the mount with with this faith we will be able to hew out of the mountain of despair a stone of hope with this faith we will be able to transform the genuine discords of our nation into a beautiful symphony of brotherhood with this faith we will be able to work together pray together to struggle together to go to jail together to stand up for freedom forever mowing that we will be free one day and i say to you today my friends let freedom ring from the prodigious hilltops of new hampshire let freedom ring from the mighty mountains of new york let freedom ring from the mighty alleghenies of pennsylvania let freedom ring from the snow capped rockies of colorado let freedom ring from the curvaceous slopes of california but not only there let freedom ring from the stone mountain of georgia let freedom ring from lookout mountain in tennessee let freedom ring from every hill and molehill in mississippi from every mountainside let freedom ring and when this happens when we allow freedom to ring when we let it ring from every village and hamlet from every state and every city we will be able to speed up that day when all of god's children black men and white men jews and gentiles protestants and catholics will be able to join hands and sing in the words of the old negro spiritual free at last free at last thank god almighty we're free at last\""
      ]
     },
     "execution_count": 21,
     "metadata": {},
     "output_type": "execute_result"
    }
   ],
   "source": [
    "# Step 2: Remove punctuation, but KEEP apostrophes inside words\n",
    "# This removes anything that isn't a letter, number, apostrophe, or whitespace\n",
    "cleaned = re.sub(r\"[^\\w\\s']+\", '', cleaned)\n",
    "cleaned"
   ]
  },
  {
   "cell_type": "code",
   "execution_count": 22,
   "id": "c86bf6d8-9e1c-4704-8854-4317f337d564",
   "metadata": {},
   "outputs": [],
   "source": [
    "cleaned_words = cleaned.split()"
   ]
  },
  {
   "cell_type": "code",
   "execution_count": null,
   "id": "1d1a4d4d-9255-4767-942d-666a7a97b478",
   "metadata": {
    "scrolled": true
   },
   "outputs": [],
   "source": [
    "cleaned_words"
   ]
  },
  {
   "cell_type": "code",
   "execution_count": 24,
   "id": "0994f85f-75bf-49b6-b032-c4de9f20a26c",
   "metadata": {},
   "outputs": [],
   "source": [
    "import pandas as pd"
   ]
  },
  {
   "cell_type": "code",
   "execution_count": 25,
   "id": "5d8a57a5-40bd-4450-a64d-ccd58edc93f2",
   "metadata": {},
   "outputs": [
    {
     "data": {
      "text/plain": [
       "0      \n",
       "the        54\n",
       "of         49\n",
       "to         29\n",
       "and        27\n",
       "a          20\n",
       "           ..\n",
       "jews        1\n",
       "joyous      1\n",
       "judged      1\n",
       "land        1\n",
       "lookout     1\n",
       "Name: count, Length: 323, dtype: int64"
      ]
     },
     "execution_count": 25,
     "metadata": {},
     "output_type": "execute_result"
    }
   ],
   "source": [
    "# This looks at every single value, groups them, then counts them\n",
    "\n",
    "df = pd.DataFrame(cleaned_words).value_counts()\n",
    "df"
   ]
  },
  {
   "cell_type": "code",
   "execution_count": 28,
   "id": "2263a225-e04d-4151-aa9b-d0d8d94a61ef",
   "metadata": {},
   "outputs": [
    {
     "name": "stdout",
     "output_type": "stream",
     "text": [
      "      word  count\n",
      "0      the     54\n",
      "1       of     49\n",
      "2       to     29\n",
      "3      and     27\n",
      "4        a     20\n",
      "5       in     17\n",
      "6       be     16\n",
      "7     will     16\n",
      "8  freedom     13\n",
      "9       we     13\n"
     ]
    }
   ],
   "source": [
    "# Step 1: Turn the list of cleaned words into a DataFrame with a single column named 'word'\n",
    "df = pd.DataFrame(cleaned_words, columns=['word'])\n",
    "\n",
    "# Step 2: Count how many times each word appears using value_counts()\n",
    "#         This returns a Series with words as index and counts as values\n",
    "df = df.value_counts().reset_index(name='count')\n",
    "\n",
    "# Step 3: Rename the columns to 'word' and 'count' for clarity\n",
    "df.columns = ['word', 'count']\n",
    "\n",
    "# Step 4: Print the first 10 rows to see the most common words\n",
    "print(df.head(10))"
   ]
  },
  {
   "cell_type": "code",
   "execution_count": 29,
   "id": "a46d85ac-4590-48cc-8552-a44e8f1e933f",
   "metadata": {},
   "outputs": [],
   "source": [
    "df.to_csv(r'C:\\Users\\jrwie\\OneDrive\\Desktop\\Data Stuffs\\Analyst_Builder\\Python\\Exports\\MLKjr_speech_scraped.csv')"
   ]
  },
  {
   "cell_type": "code",
   "execution_count": null,
   "id": "cb43ca59-fd16-4da2-a39f-75e0bb0221a7",
   "metadata": {},
   "outputs": [],
   "source": []
  },
  {
   "cell_type": "code",
   "execution_count": null,
   "id": "571ac7c9-08be-483f-a527-783b9c6d1a82",
   "metadata": {},
   "outputs": [],
   "source": []
  },
  {
   "cell_type": "code",
   "execution_count": null,
   "id": "4e5b2d23-5991-44b2-8556-da458e928798",
   "metadata": {},
   "outputs": [],
   "source": []
  },
  {
   "cell_type": "code",
   "execution_count": null,
   "id": "dac4c2a3-bf06-4ca8-98b6-2d38800f7c06",
   "metadata": {},
   "outputs": [],
   "source": []
  }
 ],
 "metadata": {
  "kernelspec": {
   "display_name": "Python [conda env:base] *",
   "language": "python",
   "name": "conda-base-py"
  },
  "language_info": {
   "codemirror_mode": {
    "name": "ipython",
    "version": 3
   },
   "file_extension": ".py",
   "mimetype": "text/x-python",
   "name": "python",
   "nbconvert_exporter": "python",
   "pygments_lexer": "ipython3",
   "version": "3.12.7"
  }
 },
 "nbformat": 4,
 "nbformat_minor": 5
}
