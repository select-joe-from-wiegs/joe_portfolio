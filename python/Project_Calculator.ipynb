{
 "cells": [
  {
   "cell_type": "markdown",
   "id": "12edc386-372a-47cf-91e4-fb5112abbd85",
   "metadata": {},
   "source": [
    "# Building a Calculator!!"
   ]
  },
  {
   "cell_type": "code",
   "execution_count": 1,
   "id": "f7f4637b-501b-4cb0-88a0-e67eb7f73447",
   "metadata": {},
   "outputs": [],
   "source": [
    "# Begin with addition\n",
    "# Then copy paste down and change to get our basic functions\n",
    "\n",
    "def add(x,y):\n",
    "    return x + y\n",
    "\n",
    "def subtract(x,y):\n",
    "    return x - y\n",
    "\n",
    "def multiply(x,y):\n",
    "    return x * y\n",
    "\n",
    "def divide(x,y):\n",
    "    return x / y\n"
   ]
  },
  {
   "cell_type": "code",
   "execution_count": 3,
   "id": "3eb8cc95-3180-486a-95d2-2d2da198ff98",
   "metadata": {},
   "outputs": [
    {
     "name": "stdin",
     "output_type": "stream",
     "text": [
      "Enter A for addition, S for subtraction, M for multiplication, or D for division:  M\n",
      "Enter first number:  4\n",
      "Enter second number:  5\n"
     ]
    }
   ],
   "source": [
    "# Now think of the user inputs\n",
    "# What inputs are the user going to give us?\n",
    "\n",
    "choice = input('Enter A for addition, S for subtraction, M for multiplication, or D for division: ')\n",
    "\n",
    "# We know they will need to give us 2 numbers to use\n",
    "\n",
    "num1 = float(input('Enter first number: '))      # The float function is there because the user input will be a string otherwise\n",
    "num2 = float(input('Enter second number: '))     # Choosing float instead of int because user may want to enter decimal values"
   ]
  },
  {
   "cell_type": "code",
   "execution_count": null,
   "id": "c4e6fea4-623b-4a7d-8d4f-d85863663c93",
   "metadata": {},
   "outputs": [],
   "source": [
    "# Now we can start building out our logic after we have our variables\n",
    "\n",
    "if choice.lower() in ['a', 's', 'm', 'd']:\n",
    "    num1 = float(input('Enter first number: '))\n",
    "    num2 = float(input('Enter second number: '))\n",
    "    if choice.lower() == 'a':\n",
    "        num1 + num2\n",
    "    elif choice.lower() == 's':\n",
    "        num1 - num2\n",
    "    elif choice.lower() == 'm':\n",
    "        num1 * num2\n",
    "    elif choice.lower() == 'd':\n",
    "        num1 / num2\n"
   ]
  },
  {
   "cell_type": "code",
   "execution_count": 13,
   "id": "700fab8b-e5e7-4c05-9225-acef238ba9df",
   "metadata": {},
   "outputs": [
    {
     "name": "stdin",
     "output_type": "stream",
     "text": [
      "Enter A for addition, S for subtraction, M for multiplication, or D for division:  m\n",
      "Enter first number:  6\n",
      "Enter second number:  9\n"
     ]
    },
    {
     "name": "stdout",
     "output_type": "stream",
     "text": [
      "6.0 * 9.0 = 54.0\n"
     ]
    }
   ],
   "source": [
    "choice = input('Enter A for addition, S for subtraction, M for multiplication, or D for division: ')\n",
    "\n",
    "if choice.lower() in ['a', 's', 'm', 'd']:\n",
    "    num1 = float(input('Enter first number: '))\n",
    "    num2 = float(input('Enter second number: '))\n",
    "    if choice.lower() == 'a':\n",
    "        print(num1, '+', num2, '=', add(num1, num2))\n",
    "    elif choice.lower() == 's':\n",
    "        print(num1, '-', num2, '=', subtract(num1, num2))\n",
    "    elif choice.lower() == 'm':\n",
    "        print(num1, '*', num2, '=', multiply(num1, num2))\n",
    "    elif choice.lower() == 'd':\n",
    "        print(num1, '/', num2, '=', divide(num1, num2))\n",
    "else:\n",
    "    print('Sorry, your input is not recognized by the calculator. Please try again.')"
   ]
  },
  {
   "cell_type": "code",
   "execution_count": 18,
   "id": "28060526-0cd2-4744-8fcd-8181665a89fb",
   "metadata": {},
   "outputs": [
    {
     "name": "stdin",
     "output_type": "stream",
     "text": [
      "Enter A for addition, S for subtraction, M for multiplication, or D for division:  d\n",
      "Enter first number:  8\n",
      "Enter second number:  2\n"
     ]
    },
    {
     "name": "stdout",
     "output_type": "stream",
     "text": [
      "8.0 / 2.0 = 4.0\n"
     ]
    }
   ],
   "source": [
    "# Can I write this same code but use f-strings in the print statements?\n",
    "\n",
    "choice = input('Enter A for addition, S for subtraction, M for multiplication, or D for division: ')\n",
    "\n",
    "if choice.lower() in ['a', 's', 'm', 'd']:\n",
    "    num1 = float(input('Enter first number: '))\n",
    "    num2 = float(input('Enter second number: '))\n",
    "    if choice.lower() == 'a':\n",
    "        print(f\"{num1} + {num2} = {add(num1,num2)}\")\n",
    "    elif choice.lower() == 's':\n",
    "        print(f\"{num1} - {num2} = {subtract(num1, num2)}\")\n",
    "    elif choice.lower() == 'm':\n",
    "        print(f\"{num1} * {num2} = {multiply(num1, num2)}\")\n",
    "    elif choice.lower() == 'd':\n",
    "        print(f\"{num1} / {num2} = {divide(num1, num2)}\")\n",
    "else:\n",
    "    print('Sorry, your input is not recognized by the calculator. Please try again.')"
   ]
  },
  {
   "cell_type": "code",
   "execution_count": 2,
   "id": "f615a48c-78b7-4b5f-8561-31ee1f0776a2",
   "metadata": {},
   "outputs": [
    {
     "name": "stdin",
     "output_type": "stream",
     "text": [
      "Enter A for addition, S for subtraction, M for multiplication, or D for division:  s\n",
      "Enter first number:  8\n",
      "Enter second number:  4\n"
     ]
    },
    {
     "name": "stdout",
     "output_type": "stream",
     "text": [
      "8.0 - 4.0 = 4.0\n"
     ]
    },
    {
     "name": "stdin",
     "output_type": "stream",
     "text": [
      "Want to do another calculation? Enter y/n: y\n",
      "Enter A for addition, S for subtraction, M for multiplication, or D for division:  m\n",
      "Enter first number:  6\n",
      "Enter second number:  7\n"
     ]
    },
    {
     "name": "stdout",
     "output_type": "stream",
     "text": [
      "6.0 * 7.0 = 42.0\n"
     ]
    },
    {
     "name": "stdin",
     "output_type": "stream",
     "text": [
      "Want to do another calculation? Enter y/n: n\n"
     ]
    }
   ],
   "source": [
    "# The problem is now this has to be run every time you want to do a calculation\n",
    "# We can use a while loop\n",
    "def add(x,y):\n",
    "    return x + y\n",
    "\n",
    "def subtract(x,y):\n",
    "    return x - y\n",
    "\n",
    "def multiply(x,y):\n",
    "    return x * y\n",
    "\n",
    "def divide(x,y):\n",
    "    return x / y\n",
    "\n",
    "while True:\n",
    "    choice = input('Enter A for addition, S for subtraction, M for multiplication, or D for division: ')\n",
    "    \n",
    "    if choice.lower() in ['a', 's', 'm', 'd']:\n",
    "        num1 = float(input('Enter first number: '))\n",
    "        num2 = float(input('Enter second number: '))\n",
    "        if choice.lower() == 'a':\n",
    "            print(f\"{num1} + {num2} = {add(num1,num2)}\")\n",
    "        elif choice.lower() == 's':\n",
    "            print(f\"{num1} - {num2} = {subtract(num1, num2)}\")\n",
    "        elif choice.lower() == 'm':\n",
    "            print(f\"{num1} * {num2} = {multiply(num1, num2)}\")\n",
    "        elif choice.lower() == 'd':\n",
    "            print(f\"{num1} / {num2} = {divide(num1, num2)}\")\n",
    "    else:\n",
    "        print('Sorry, your input is not recognized by the calculator. Please try again.')\n",
    "    next_calculation = input('Want to do another calculation? Enter y/n:')\n",
    "    if next_calculation.lower() in ['n', 'no']:\n",
    "        break"
   ]
  },
  {
   "cell_type": "code",
   "execution_count": null,
   "id": "daa47245-f3a4-4166-8899-09f68a3f9f3c",
   "metadata": {},
   "outputs": [],
   "source": []
  },
  {
   "cell_type": "code",
   "execution_count": null,
   "id": "c2910b83-2914-4034-b941-c1c3378cc919",
   "metadata": {},
   "outputs": [],
   "source": []
  },
  {
   "cell_type": "code",
   "execution_count": null,
   "id": "b78df7ff-c9ef-41c4-9cc0-1336fe878bda",
   "metadata": {},
   "outputs": [],
   "source": []
  },
  {
   "cell_type": "code",
   "execution_count": null,
   "id": "12187d41-64bf-4a58-80fb-c32b4d25cffe",
   "metadata": {},
   "outputs": [],
   "source": []
  },
  {
   "cell_type": "code",
   "execution_count": null,
   "id": "acc9d37e-2c84-42c8-8644-f1cb3ac20028",
   "metadata": {},
   "outputs": [],
   "source": []
  },
  {
   "cell_type": "code",
   "execution_count": null,
   "id": "daa6200e-4997-4811-bf6b-bdea33ba860b",
   "metadata": {},
   "outputs": [],
   "source": []
  },
  {
   "cell_type": "code",
   "execution_count": null,
   "id": "f8f4f906-ead9-4854-a58a-d36cc24215fa",
   "metadata": {},
   "outputs": [],
   "source": []
  },
  {
   "cell_type": "code",
   "execution_count": null,
   "id": "c3c61b5e-8e91-46b1-bef7-5fddde9dd42f",
   "metadata": {},
   "outputs": [],
   "source": []
  },
  {
   "cell_type": "code",
   "execution_count": null,
   "id": "92708323-cb99-49e5-ab26-1f7bc6759fba",
   "metadata": {},
   "outputs": [],
   "source": []
  },
  {
   "cell_type": "code",
   "execution_count": null,
   "id": "3518d5fd-4603-44ee-b0f6-01ee368ed8ff",
   "metadata": {},
   "outputs": [],
   "source": []
  },
  {
   "cell_type": "code",
   "execution_count": null,
   "id": "4bbb05b0-e1a8-4eea-8f35-09f7e7f130d1",
   "metadata": {},
   "outputs": [],
   "source": []
  },
  {
   "cell_type": "code",
   "execution_count": null,
   "id": "ca683aa7-efff-469c-be95-bf954ebe8aad",
   "metadata": {},
   "outputs": [],
   "source": []
  }
 ],
 "metadata": {
  "kernelspec": {
   "display_name": "Python [conda env:base] *",
   "language": "python",
   "name": "conda-base-py"
  },
  "language_info": {
   "codemirror_mode": {
    "name": "ipython",
    "version": 3
   },
   "file_extension": ".py",
   "mimetype": "text/x-python",
   "name": "python",
   "nbconvert_exporter": "python",
   "pygments_lexer": "ipython3",
   "version": "3.12.7"
  }
 },
 "nbformat": 4,
 "nbformat_minor": 5
}
