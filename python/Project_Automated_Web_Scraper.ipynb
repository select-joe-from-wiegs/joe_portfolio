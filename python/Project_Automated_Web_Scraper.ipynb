{
 "cells": [
  {
   "cell_type": "markdown",
   "id": "2363114e-690d-4bf8-863b-a84d5682db91",
   "metadata": {},
   "source": [
    "# Automated Web Scraper Project!!!"
   ]
  },
  {
   "cell_type": "code",
   "execution_count": 1,
   "id": "80540de7-0ea3-412a-a574-258ffa4c4130",
   "metadata": {},
   "outputs": [],
   "source": [
    "from bs4 import BeautifulSoup\n",
    "import requests"
   ]
  },
  {
   "cell_type": "code",
   "execution_count": 2,
   "id": "13da1bd9-b7b1-4d6c-a6e8-0dfaac10e311",
   "metadata": {},
   "outputs": [],
   "source": [
    "url = 'https://coinmarketcap.com/currencies/bitcoin/'\n",
    "\n",
    "page = requests.get(url)\n",
    "\n",
    "soup = BeautifulSoup(page.text, 'html')"
   ]
  },
  {
   "cell_type": "code",
   "execution_count": null,
   "id": "69f7b3d0-723e-4486-837c-12168bad4f3d",
   "metadata": {},
   "outputs": [],
   "source": [
    "print(soup)"
   ]
  },
  {
   "cell_type": "code",
   "execution_count": 4,
   "id": "c1a93f6c-6287-4555-8b94-91bb22f6067c",
   "metadata": {},
   "outputs": [
    {
     "data": {
      "text/plain": [
       "<span class=\"sc-65e7f566-0 lsTl\" data-role=\"coin-name\" title=\"Bitcoin\">Bitcoin<span class=\"sc-65e7f566-0 eQBACe coin-name-mobile\"> price</span></span>"
      ]
     },
     "execution_count": 4,
     "metadata": {},
     "output_type": "execute_result"
    }
   ],
   "source": [
    "# First, let's just get the Bitcoin name from the page\n",
    "# We can copy with \"Copy outerHTML\"\n",
    "# <span data-role=\"coin-name\" title=\"Bitcoin\" class=\"sc-65e7f566-0 lsTl\">Bitcoin<span class=\"sc-65e7f566-0 eQBACe coin-name-mobile\"> price</span></span>\n",
    "\n",
    "soup.find('span', class_ = 'sc-65e7f566-0 lsTl')"
   ]
  },
  {
   "cell_type": "code",
   "execution_count": 5,
   "id": "708d4aee-ede5-40be-8832-441fc17db2bf",
   "metadata": {},
   "outputs": [
    {
     "data": {
      "text/plain": [
       "'Bitcoin price'"
      ]
     },
     "execution_count": 5,
     "metadata": {},
     "output_type": "execute_result"
    }
   ],
   "source": [
    "soup.find('span', class_ = 'sc-65e7f566-0 lsTl').text"
   ]
  },
  {
   "cell_type": "code",
   "execution_count": 6,
   "id": "07ec1316-1571-49e9-a7d6-41e7361637b1",
   "metadata": {},
   "outputs": [
    {
     "name": "stdout",
     "output_type": "stream",
     "text": [
      "Bitcoin\n"
     ]
    }
   ],
   "source": [
    "crypto_name = soup.find('span', string='Bitcoin').text\n",
    "print(crypto_name)"
   ]
  },
  {
   "cell_type": "code",
   "execution_count": 7,
   "id": "bdb1ef6c-fcab-4bce-a88f-cec26d7afd45",
   "metadata": {},
   "outputs": [
    {
     "data": {
      "text/plain": [
       "'109,041.64'"
      ]
     },
     "execution_count": 7,
     "metadata": {},
     "output_type": "execute_result"
    }
   ],
   "source": [
    "# price\n",
    "# <span class=\"sc-65e7f566-0 esyGGG base-text\" data-test=\"text-cdp-price-display\">$109,077.23</span>\n",
    "# Since class name can change very often, we can use attributes to\n",
    "# have a stable and meaningful HTML attribute to target this\n",
    "\n",
    "price = soup.find('span', attrs = {'data-test': 'text-cdp-price-display'}).text\n",
    "price\n",
    "\n",
    "# Alex tends to get rid of the $ sign at the beginning to avoid errors later\n",
    "\n",
    "final_price = price.replace('$', '')\n",
    "final_price"
   ]
  },
  {
   "cell_type": "code",
   "execution_count": 8,
   "id": "aa8955fa-fbec-4e82-a230-b502f319acc2",
   "metadata": {},
   "outputs": [],
   "source": [
    "import pandas as pd"
   ]
  },
  {
   "cell_type": "code",
   "execution_count": 9,
   "id": "2aeece7d-e420-4cad-b19f-a8e70cd99ae1",
   "metadata": {},
   "outputs": [
    {
     "data": {
      "text/html": [
       "<div>\n",
       "<style scoped>\n",
       "    .dataframe tbody tr th:only-of-type {\n",
       "        vertical-align: middle;\n",
       "    }\n",
       "\n",
       "    .dataframe tbody tr th {\n",
       "        vertical-align: top;\n",
       "    }\n",
       "\n",
       "    .dataframe thead th {\n",
       "        text-align: right;\n",
       "    }\n",
       "</style>\n",
       "<table border=\"1\" class=\"dataframe\">\n",
       "  <thead>\n",
       "    <tr style=\"text-align: right;\">\n",
       "      <th></th>\n",
       "      <th>Crypto Name</th>\n",
       "      <th>Price</th>\n",
       "    </tr>\n",
       "  </thead>\n",
       "  <tbody>\n",
       "    <tr>\n",
       "      <th>0</th>\n",
       "      <td>Bitcoin</td>\n",
       "      <td>109,041.64</td>\n",
       "    </tr>\n",
       "  </tbody>\n",
       "</table>\n",
       "</div>"
      ],
      "text/plain": [
       "  Crypto Name       Price\n",
       "0     Bitcoin  109,041.64"
      ]
     },
     "execution_count": 9,
     "metadata": {},
     "output_type": "execute_result"
    }
   ],
   "source": [
    "crypto_dict = {'Crypto Name': [crypto_name],\n",
    "        'Price': [final_price]}\n",
    "\n",
    "pd.DataFrame(crypto_dict)"
   ]
  },
  {
   "cell_type": "code",
   "execution_count": 10,
   "id": "6f169990-72cc-4fcd-8e0d-6d1e6ec30651",
   "metadata": {},
   "outputs": [],
   "source": [
    "from bs4 import BeautifulSoup\n",
    "import requests\n",
    "\n",
    "url = 'https://coinmarketcap.com/currencies/bitcoin/'\n",
    "\n",
    "page = requests.get(url)\n",
    "\n",
    "soup = BeautifulSoup(page.text, 'html.parser')\n",
    "\n",
    "# First, let's just get the Bitcoin name from the page\n",
    "# We can copy with \"Copy outerHTML\"\n",
    "# <span data-role=\"coin-name\" title=\"Bitcoin\" class=\"sc-65e7f566-0 lsTl\">Bitcoin<span class=\"sc-65e7f566-0 eQBACe coin-name-mobile\"> price</span></span>\n",
    "\n",
    "crypto_name = soup.find('span', string='Bitcoin').text\n",
    "\n",
    "price = soup.find('span', attrs = {'data-test': 'text-cdp-price-display'}).text\n",
    "\n",
    "final_price = price.replace('$', '')\n",
    "\n",
    "import pandas as pd\n",
    "\n",
    "crypto_dict = {'Crypto Name': [crypto_name],\n",
    "        'Price': [final_price]}\n",
    "\n",
    "df = pd.DataFrame(crypto_dict)"
   ]
  },
  {
   "cell_type": "code",
   "execution_count": 11,
   "id": "7876ebbb-bd32-4583-a8fe-2bf2f313c688",
   "metadata": {},
   "outputs": [
    {
     "data": {
      "text/html": [
       "<div>\n",
       "<style scoped>\n",
       "    .dataframe tbody tr th:only-of-type {\n",
       "        vertical-align: middle;\n",
       "    }\n",
       "\n",
       "    .dataframe tbody tr th {\n",
       "        vertical-align: top;\n",
       "    }\n",
       "\n",
       "    .dataframe thead th {\n",
       "        text-align: right;\n",
       "    }\n",
       "</style>\n",
       "<table border=\"1\" class=\"dataframe\">\n",
       "  <thead>\n",
       "    <tr style=\"text-align: right;\">\n",
       "      <th></th>\n",
       "      <th>Crypto Name</th>\n",
       "      <th>Price</th>\n",
       "    </tr>\n",
       "  </thead>\n",
       "  <tbody>\n",
       "    <tr>\n",
       "      <th>0</th>\n",
       "      <td>Bitcoin</td>\n",
       "      <td>109,041.64</td>\n",
       "    </tr>\n",
       "  </tbody>\n",
       "</table>\n",
       "</div>"
      ],
      "text/plain": [
       "  Crypto Name       Price\n",
       "0     Bitcoin  109,041.64"
      ]
     },
     "execution_count": 11,
     "metadata": {},
     "output_type": "execute_result"
    }
   ],
   "source": [
    "df"
   ]
  },
  {
   "cell_type": "code",
   "execution_count": 12,
   "id": "eca1b182-c93f-4500-a1e1-ac9ec10ef07c",
   "metadata": {},
   "outputs": [
    {
     "data": {
      "text/html": [
       "<div>\n",
       "<style scoped>\n",
       "    .dataframe tbody tr th:only-of-type {\n",
       "        vertical-align: middle;\n",
       "    }\n",
       "\n",
       "    .dataframe tbody tr th {\n",
       "        vertical-align: top;\n",
       "    }\n",
       "\n",
       "    .dataframe thead th {\n",
       "        text-align: right;\n",
       "    }\n",
       "</style>\n",
       "<table border=\"1\" class=\"dataframe\">\n",
       "  <thead>\n",
       "    <tr style=\"text-align: right;\">\n",
       "      <th></th>\n",
       "      <th>Crypto Name</th>\n",
       "      <th>Price</th>\n",
       "    </tr>\n",
       "  </thead>\n",
       "  <tbody>\n",
       "    <tr>\n",
       "      <th>0</th>\n",
       "      <td>Bitcoin</td>\n",
       "      <td>109,041.64</td>\n",
       "    </tr>\n",
       "  </tbody>\n",
       "</table>\n",
       "</div>"
      ],
      "text/plain": [
       "  Crypto Name       Price\n",
       "0     Bitcoin  109,041.64"
      ]
     },
     "execution_count": 12,
     "metadata": {},
     "output_type": "execute_result"
    }
   ],
   "source": [
    "df"
   ]
  },
  {
   "cell_type": "code",
   "execution_count": 13,
   "id": "1fc38193-4e4d-4c78-8dcd-206bdd647df3",
   "metadata": {},
   "outputs": [
    {
     "data": {
      "text/html": [
       "<div>\n",
       "<style scoped>\n",
       "    .dataframe tbody tr th:only-of-type {\n",
       "        vertical-align: middle;\n",
       "    }\n",
       "\n",
       "    .dataframe tbody tr th {\n",
       "        vertical-align: top;\n",
       "    }\n",
       "\n",
       "    .dataframe thead th {\n",
       "        text-align: right;\n",
       "    }\n",
       "</style>\n",
       "<table border=\"1\" class=\"dataframe\">\n",
       "  <thead>\n",
       "    <tr style=\"text-align: right;\">\n",
       "      <th></th>\n",
       "      <th>Crypto Name</th>\n",
       "      <th>Price</th>\n",
       "    </tr>\n",
       "  </thead>\n",
       "  <tbody>\n",
       "    <tr>\n",
       "      <th>0</th>\n",
       "      <td>Bitcoin</td>\n",
       "      <td>109,041.64</td>\n",
       "    </tr>\n",
       "  </tbody>\n",
       "</table>\n",
       "</div>"
      ],
      "text/plain": [
       "  Crypto Name       Price\n",
       "0     Bitcoin  109,041.64"
      ]
     },
     "execution_count": 13,
     "metadata": {},
     "output_type": "execute_result"
    }
   ],
   "source": [
    "df"
   ]
  },
  {
   "cell_type": "code",
   "execution_count": 14,
   "id": "dd7680a2-f453-4548-a064-c9cb66bf5c62",
   "metadata": {},
   "outputs": [],
   "source": [
    "# Running into Static Data pulls... Asked Chat...\n",
    "# Now using Selenium and a WebDriver?"
   ]
  },
  {
   "cell_type": "code",
   "execution_count": 15,
   "id": "5124b854-7b5d-4499-8335-cf256f47a258",
   "metadata": {},
   "outputs": [
    {
     "name": "stdout",
     "output_type": "stream",
     "text": [
      "Requirement already satisfied: selenium in c:\\users\\jrwie\\anaconda3\\lib\\site-packages (4.33.0)\n",
      "Requirement already satisfied: urllib3~=2.4.0 in c:\\users\\jrwie\\anaconda3\\lib\\site-packages (from urllib3[socks]~=2.4.0->selenium) (2.4.0)\n",
      "Requirement already satisfied: trio~=0.30.0 in c:\\users\\jrwie\\anaconda3\\lib\\site-packages (from selenium) (0.30.0)\n",
      "Requirement already satisfied: trio-websocket~=0.12.2 in c:\\users\\jrwie\\anaconda3\\lib\\site-packages (from selenium) (0.12.2)\n",
      "Requirement already satisfied: certifi>=2025.4.26 in c:\\users\\jrwie\\anaconda3\\lib\\site-packages (from selenium) (2025.4.26)\n",
      "Requirement already satisfied: typing_extensions~=4.13.2 in c:\\users\\jrwie\\anaconda3\\lib\\site-packages (from selenium) (4.13.2)\n",
      "Requirement already satisfied: websocket-client~=1.8.0 in c:\\users\\jrwie\\anaconda3\\lib\\site-packages (from selenium) (1.8.0)\n",
      "Requirement already satisfied: attrs>=23.2.0 in c:\\users\\jrwie\\anaconda3\\lib\\site-packages (from trio~=0.30.0->selenium) (25.3.0)\n",
      "Requirement already satisfied: sortedcontainers in c:\\users\\jrwie\\anaconda3\\lib\\site-packages (from trio~=0.30.0->selenium) (2.4.0)\n",
      "Requirement already satisfied: idna in c:\\users\\jrwie\\anaconda3\\lib\\site-packages (from trio~=0.30.0->selenium) (3.7)\n",
      "Requirement already satisfied: outcome in c:\\users\\jrwie\\anaconda3\\lib\\site-packages (from trio~=0.30.0->selenium) (1.3.0.post0)\n",
      "Requirement already satisfied: sniffio>=1.3.0 in c:\\users\\jrwie\\anaconda3\\lib\\site-packages (from trio~=0.30.0->selenium) (1.3.0)\n",
      "Requirement already satisfied: cffi>=1.14 in c:\\users\\jrwie\\anaconda3\\lib\\site-packages (from trio~=0.30.0->selenium) (1.17.1)\n",
      "Requirement already satisfied: wsproto>=0.14 in c:\\users\\jrwie\\anaconda3\\lib\\site-packages (from trio-websocket~=0.12.2->selenium) (1.2.0)\n",
      "Requirement already satisfied: pysocks!=1.5.7,<2.0,>=1.5.6 in c:\\users\\jrwie\\anaconda3\\lib\\site-packages (from urllib3[socks]~=2.4.0->selenium) (1.7.1)\n",
      "Requirement already satisfied: pycparser in c:\\users\\jrwie\\anaconda3\\lib\\site-packages (from cffi>=1.14->trio~=0.30.0->selenium) (2.21)\n",
      "Requirement already satisfied: h11<1,>=0.9.0 in c:\\users\\jrwie\\anaconda3\\lib\\site-packages (from wsproto>=0.14->trio-websocket~=0.12.2->selenium) (0.14.0)\n",
      "Note: you may need to restart the kernel to use updated packages.\n"
     ]
    }
   ],
   "source": [
    "pip install selenium"
   ]
  },
  {
   "cell_type": "code",
   "execution_count": 19,
   "id": "6bfe5cf3-a782-4396-9a61-87ca8c043700",
   "metadata": {},
   "outputs": [],
   "source": [
    "from selenium import webdriver\n",
    "from selenium.webdriver.chrome.service import Service\n",
    "\n",
    "service = Service(r\"C:\\Users\\jrwie\\OneDrive\\Desktop\\Data Stuffs\\Python_Things\\chromedriver-win64\\chromedriver-win64\\chromedriver.exe\")\n",
    "driver = webdriver.Chrome(service=service)"
   ]
  },
  {
   "cell_type": "markdown",
   "id": "a1f400b9-4b71-40aa-80cc-427e9ed0ac98",
   "metadata": {},
   "source": [
    "# After working and debugging with Chat for almost 5 hours..."
   ]
  },
  {
   "cell_type": "code",
   "execution_count": 31,
   "id": "4ed27d49-b308-475c-9ba0-79fb35543c64",
   "metadata": {},
   "outputs": [],
   "source": [
    "from selenium import webdriver\n",
    "from selenium.webdriver.chrome.service import Service\n",
    "from bs4 import BeautifulSoup\n",
    "import time\n",
    "import pandas as pd\n",
    "\n",
    "# Path to your chromedriver\n",
    "service = Service(r\"C:\\Users\\jrwie\\OneDrive\\Desktop\\Data Stuffs\\Python_Things\\chromedriver-win64\\chromedriver-win64\\chromedriver.exe\")\n",
    "driver = webdriver.Chrome(service=service)\n",
    "\n",
    "# Step 1: Go to the live Bitcoin price page\n",
    "driver.get(\"https://coinmarketcap.com/currencies/bitcoin/\")\n",
    "time.sleep(5)  # Wait for JavaScript to finish loading\n",
    "\n",
    "# Step 2: Parse the rendered HTML\n",
    "soup = BeautifulSoup(driver.page_source, 'html.parser')\n",
    "\n",
    "# Step 3: Extract the coin name and price\n",
    "crypto_name = soup.find('span', string='Bitcoin').text\n",
    "price = soup.find('span', attrs={'data-test': 'text-cdp-price-display'}).text\n",
    "final_price = price.replace('$', '')\n",
    "\n",
    "# Step 4: Store in a DataFrame\n",
    "date_time = datetime.now()\n",
    "\n",
    "crypto_dict = {\n",
    "    'Crypto Name': [crypto_name],\n",
    "    'Price': [final_price],\n",
    "    'TimeStamp': [date_time]\n",
    "}\n",
    "df = pd.DataFrame(crypto_dict)\n",
    "df\n",
    "\n",
    "# Step 5: Clean up\n",
    "driver.quit()\n"
   ]
  },
  {
   "cell_type": "code",
   "execution_count": 23,
   "id": "047ea0b0-00bc-4f95-8163-a34985e2b91a",
   "metadata": {},
   "outputs": [
    {
     "data": {
      "text/plain": [
       "datetime.datetime(2025, 5, 24, 13, 19, 43, 482677)"
      ]
     },
     "execution_count": 23,
     "metadata": {},
     "output_type": "execute_result"
    }
   ],
   "source": [
    "# Now adding a timestamp\n",
    "\n",
    "from datetime import datetime\n",
    "\n",
    "datetime.now()\n",
    "\n",
    "# Really terrible format though"
   ]
  },
  {
   "cell_type": "code",
   "execution_count": 28,
   "id": "bdbc299e-64af-4fa9-b89f-43f9a7242de9",
   "metadata": {},
   "outputs": [
    {
     "name": "stdout",
     "output_type": "stream",
     "text": [
      "2025-05-24 13:22:39.708130\n"
     ]
    }
   ],
   "source": [
    "date_time = datetime.now()\n",
    "print(date_time)"
   ]
  },
  {
   "cell_type": "code",
   "execution_count": 30,
   "id": "29377263-eb0e-4d31-91f7-f0e232e71a03",
   "metadata": {},
   "outputs": [
    {
     "data": {
      "text/html": [
       "<div>\n",
       "<style scoped>\n",
       "    .dataframe tbody tr th:only-of-type {\n",
       "        vertical-align: middle;\n",
       "    }\n",
       "\n",
       "    .dataframe tbody tr th {\n",
       "        vertical-align: top;\n",
       "    }\n",
       "\n",
       "    .dataframe thead th {\n",
       "        text-align: right;\n",
       "    }\n",
       "</style>\n",
       "<table border=\"1\" class=\"dataframe\">\n",
       "  <thead>\n",
       "    <tr style=\"text-align: right;\">\n",
       "      <th></th>\n",
       "      <th>Crypto Name</th>\n",
       "      <th>Price</th>\n",
       "      <th>TimeStamp</th>\n",
       "    </tr>\n",
       "  </thead>\n",
       "  <tbody>\n",
       "    <tr>\n",
       "      <th>0</th>\n",
       "      <td>Bitcoin</td>\n",
       "      <td>109,065.49</td>\n",
       "      <td>2025-05-24 13:25:27.148263</td>\n",
       "    </tr>\n",
       "  </tbody>\n",
       "</table>\n",
       "</div>"
      ],
      "text/plain": [
       "  Crypto Name       Price                  TimeStamp\n",
       "0     Bitcoin  109,065.49 2025-05-24 13:25:27.148263"
      ]
     },
     "execution_count": 30,
     "metadata": {},
     "output_type": "execute_result"
    }
   ],
   "source": [
    "date_time = datetime.now()\n",
    "\n",
    "crypto_dict = {\n",
    "    'Crypto Name': [crypto_name],\n",
    "    'Price': [final_price],\n",
    "    'TimeStamp': [date_time]\n",
    "}\n",
    "df = pd.DataFrame(crypto_dict)\n",
    "df"
   ]
  },
  {
   "cell_type": "code",
   "execution_count": 33,
   "id": "39a60b68-15bc-4bb3-b3dc-28f687c36220",
   "metadata": {},
   "outputs": [
    {
     "name": "stdout",
     "output_type": "stream",
     "text": [
      "  Crypto Name       Price                  TimeStamp\n",
      "0     Bitcoin  109,068.56 2025-05-24 13:26:52.706710\n"
     ]
    }
   ],
   "source": [
    "from selenium import webdriver\n",
    "from selenium.webdriver.chrome.service import Service\n",
    "from bs4 import BeautifulSoup\n",
    "import time\n",
    "import pandas as pd\n",
    "\n",
    "# Path to your chromedriver\n",
    "service = Service(r\"C:\\Users\\jrwie\\OneDrive\\Desktop\\Data Stuffs\\Python_Things\\chromedriver-win64\\chromedriver-win64\\chromedriver.exe\")\n",
    "driver = webdriver.Chrome(service=service)\n",
    "\n",
    "# Step 1: Go to the live Bitcoin price page\n",
    "driver.get(\"https://coinmarketcap.com/currencies/bitcoin/\")\n",
    "time.sleep(5)  # Wait for JavaScript to finish loading\n",
    "\n",
    "# Step 2: Parse the rendered HTML\n",
    "soup = BeautifulSoup(driver.page_source, 'html.parser')\n",
    "\n",
    "# Step 3: Extract the coin name and price\n",
    "crypto_name = soup.find('span', string='Bitcoin').text\n",
    "price = soup.find('span', attrs={'data-test': 'text-cdp-price-display'}).text\n",
    "final_price = price.replace('$', '')\n",
    "\n",
    "# Step 4: Store in a DataFrame\n",
    "date_time = datetime.now()\n",
    "\n",
    "crypto_dict = {\n",
    "    'Crypto Name': [crypto_name],\n",
    "    'Price': [final_price],\n",
    "    'TimeStamp': [date_time]\n",
    "}\n",
    "df = pd.DataFrame(crypto_dict)\n",
    "print(df)\n",
    "\n",
    "# Step 5: Clean up\n",
    "driver.quit()\n"
   ]
  },
  {
   "cell_type": "code",
   "execution_count": 34,
   "id": "b1c1ee13-e7fc-49f5-8e89-b828b04e0304",
   "metadata": {},
   "outputs": [],
   "source": [
    "# Now export to a CSV\n",
    "\n",
    "df.to_csv(r\"C:\\Users\\jrwie\\OneDrive\\Desktop\\Data Stuffs\\Python_Things\\Crypto_Web_Puller\\Crypto_Automated_Pull.csv\")"
   ]
  },
  {
   "cell_type": "code",
   "execution_count": 35,
   "id": "32c6c57d-7f78-47f4-b19d-eced460cb7a1",
   "metadata": {},
   "outputs": [],
   "source": [
    "# We don't want to overwrite this file each time\n",
    "# If the file is already in there, append to it\n",
    "# If not, we want to create it\n",
    "\n",
    "import os"
   ]
  },
  {
   "cell_type": "code",
   "execution_count": 39,
   "id": "bf4d9ed4-4162-4350-8912-be3eaabf04c8",
   "metadata": {},
   "outputs": [],
   "source": [
    "if os.path.exists(r\"C:\\Users\\jrwie\\OneDrive\\Desktop\\Data Stuffs\\Python_Things\\Crypto_Web_Puller\\Crypto_Automated_Pull.csv\"):\n",
    "    df.to_csv(r\"C:\\Users\\jrwie\\OneDrive\\Desktop\\Data Stuffs\\Python_Things\\Crypto_Web_Puller\\Crypto_Automated_Pull.csv\", mode = 'a', header = False)\n",
    "else:\n",
    "    df.to_csv(r\"C:\\Users\\jrwie\\OneDrive\\Desktop\\Data Stuffs\\Python_Things\\Crypto_Web_Puller\\Crypto_Automated_Pull.csv\")"
   ]
  },
  {
   "cell_type": "code",
   "execution_count": 45,
   "id": "44b61e95-e4a2-4b4b-b2cc-4844828f2073",
   "metadata": {},
   "outputs": [],
   "source": [
    "from selenium import webdriver\n",
    "from selenium.webdriver.chrome.service import Service\n",
    "from bs4 import BeautifulSoup\n",
    "from datetime import datetime\n",
    "import time\n",
    "import pandas as pd\n",
    "import os"
   ]
  },
  {
   "cell_type": "code",
   "execution_count": 44,
   "id": "c15ac7c3-4317-40d5-b920-c8e8831d5fb3",
   "metadata": {},
   "outputs": [],
   "source": [
    "# It makes a lot of sense to put all of this within a function"
   ]
  },
  {
   "cell_type": "code",
   "execution_count": 48,
   "id": "3aaef518-2f6b-47f1-8b83-87133e3ea7a2",
   "metadata": {},
   "outputs": [],
   "source": [
    "def automated_crypto_pull():\n",
    "    # Path to your chromedriver\n",
    "    service = Service(r\"C:\\Users\\jrwie\\OneDrive\\Desktop\\Data Stuffs\\Python_Things\\chromedriver-win64\\chromedriver-win64\\chromedriver.exe\")\n",
    "    driver = webdriver.Chrome(service=service)\n",
    "    \n",
    "    # Step 1: Go to the live Bitcoin price page\n",
    "    driver.get(\"https://coinmarketcap.com/currencies/bitcoin/\")\n",
    "    time.sleep(5)  # Wait for JavaScript to finish loading\n",
    "    \n",
    "    # Step 2: Parse the rendered HTML\n",
    "    soup = BeautifulSoup(driver.page_source, 'html.parser')\n",
    "    \n",
    "    # Step 3: Extract the coin name and price\n",
    "    crypto_name = soup.find('span', string='Bitcoin').text\n",
    "    price = soup.find('span', attrs={'data-test': 'text-cdp-price-display'}).text\n",
    "    final_price = price.replace('$', '')\n",
    "    \n",
    "    # Step 4: Store in a DataFrame\n",
    "    date_time = datetime.now()\n",
    "    \n",
    "    crypto_dict = {\n",
    "        'Crypto Name': [crypto_name],\n",
    "        'Price': [final_price],\n",
    "        'TimeStamp': [date_time]\n",
    "    }\n",
    "    df = pd.DataFrame(crypto_dict)\n",
    "    print(f\"Scraped at {date_time} | Price: ${final_price}\")\n",
    "    \n",
    "    # Step 5: Clean up\n",
    "    driver.quit()\n",
    "    \n",
    "    # Step 6: Write to CSV\n",
    "    output_path = r\"C:\\Users\\jrwie\\OneDrive\\Desktop\\Data Stuffs\\Python_Things\\Crypto_Web_Puller\\Crypto_Automated_Pull.csv\"\n",
    "    \n",
    "    if os.path.exists(output_path):\n",
    "        df.to_csv(output_path, mode='a', header=False, index=False)\n",
    "    else:\n",
    "        df.to_csv(output_path, index=False)"
   ]
  },
  {
   "cell_type": "code",
   "execution_count": 49,
   "id": "3e7b12e4-2af0-42cf-9aaf-9830b2a576c4",
   "metadata": {},
   "outputs": [
    {
     "name": "stdout",
     "output_type": "stream",
     "text": [
      "Scraped at 2025-05-24 14:21:03.118990 | Price: $108,902.08\n",
      "Scraped at 2025-05-24 14:21:19.504648 | Price: $108,883.78\n",
      "Scraped at 2025-05-24 14:21:35.986902 | Price: $108,889.67\n",
      "Scraped at 2025-05-24 14:21:52.417580 | Price: $108,891.56\n",
      "Scraped at 2025-05-24 14:22:08.554510 | Price: $108,899.77\n",
      "Scraped at 2025-05-24 14:22:24.792644 | Price: $108,873.49\n",
      "Scraped at 2025-05-24 14:22:41.097808 | Price: $108,875.53\n",
      "Scraped at 2025-05-24 14:22:57.306643 | Price: $108,873.53\n",
      "Scraped at 2025-05-24 14:23:13.423225 | Price: $108,879.91\n",
      "Scraped at 2025-05-24 14:23:29.727125 | Price: $108,884.59\n",
      "Scraped at 2025-05-24 14:23:45.937616 | Price: $108,877.60\n",
      "Scraped at 2025-05-24 14:24:02.025443 | Price: $108,899.77\n",
      "Scraped at 2025-05-24 14:24:18.137910 | Price: $108,855.11\n",
      "Scraped at 2025-05-24 14:24:34.422667 | Price: $108,859.32\n",
      "Scraped at 2025-05-24 14:24:50.669011 | Price: $108,869.30\n",
      "Scraped at 2025-05-24 14:25:06.908035 | Price: $108,867.33\n",
      "Scraped at 2025-05-24 14:25:24.436906 | Price: $108,862.76\n",
      "Scraped at 2025-05-24 14:25:40.650452 | Price: $108,862.68\n",
      "Scraped at 2025-05-24 14:25:56.924751 | Price: $108,874.87\n",
      "Scraped at 2025-05-24 14:26:13.249139 | Price: $108,871.04\n"
     ]
    },
    {
     "ename": "KeyboardInterrupt",
     "evalue": "",
     "output_type": "error",
     "traceback": [
      "\u001b[1;31m---------------------------------------------------------------------------\u001b[0m",
      "\u001b[1;31mTimeoutError\u001b[0m                              Traceback (most recent call last)",
      "File \u001b[1;32m~\\anaconda3\\Lib\\socket.py:850\u001b[0m, in \u001b[0;36mcreate_connection\u001b[1;34m(address, timeout, source_address, all_errors)\u001b[0m\n\u001b[0;32m    849\u001b[0m     sock\u001b[38;5;241m.\u001b[39mbind(source_address)\n\u001b[1;32m--> 850\u001b[0m sock\u001b[38;5;241m.\u001b[39mconnect(sa)\n\u001b[0;32m    851\u001b[0m \u001b[38;5;66;03m# Break explicitly a reference cycle\u001b[39;00m\n",
      "\u001b[1;31mTimeoutError\u001b[0m: timed out",
      "\nDuring handling of the above exception, another exception occurred:\n",
      "\u001b[1;31mKeyboardInterrupt\u001b[0m                         Traceback (most recent call last)",
      "Cell \u001b[1;32mIn[49], line 4\u001b[0m\n\u001b[0;32m      1\u001b[0m \u001b[38;5;66;03m# Now that the function is defined, we can do a while loop\u001b[39;00m\n\u001b[0;32m      3\u001b[0m \u001b[38;5;28;01mwhile\u001b[39;00m \u001b[38;5;28;01mTrue\u001b[39;00m:\n\u001b[1;32m----> 4\u001b[0m     automated_crypto_pull()\n\u001b[0;32m      5\u001b[0m     time\u001b[38;5;241m.\u001b[39msleep(\u001b[38;5;241m7\u001b[39m)\n",
      "Cell \u001b[1;32mIn[48], line 30\u001b[0m, in \u001b[0;36mautomated_crypto_pull\u001b[1;34m()\u001b[0m\n\u001b[0;32m     27\u001b[0m \u001b[38;5;28mprint\u001b[39m(\u001b[38;5;124mf\u001b[39m\u001b[38;5;124m\"\u001b[39m\u001b[38;5;124mScraped at \u001b[39m\u001b[38;5;132;01m{\u001b[39;00mdate_time\u001b[38;5;132;01m}\u001b[39;00m\u001b[38;5;124m | Price: $\u001b[39m\u001b[38;5;132;01m{\u001b[39;00mfinal_price\u001b[38;5;132;01m}\u001b[39;00m\u001b[38;5;124m\"\u001b[39m)\n\u001b[0;32m     29\u001b[0m \u001b[38;5;66;03m# Step 5: Clean up\u001b[39;00m\n\u001b[1;32m---> 30\u001b[0m driver\u001b[38;5;241m.\u001b[39mquit()\n\u001b[0;32m     32\u001b[0m \u001b[38;5;66;03m# Step 6: Write to CSV\u001b[39;00m\n\u001b[0;32m     33\u001b[0m output_path \u001b[38;5;241m=\u001b[39m \u001b[38;5;124mr\u001b[39m\u001b[38;5;124m\"\u001b[39m\u001b[38;5;124mC:\u001b[39m\u001b[38;5;124m\\\u001b[39m\u001b[38;5;124mUsers\u001b[39m\u001b[38;5;124m\\\u001b[39m\u001b[38;5;124mjrwie\u001b[39m\u001b[38;5;124m\\\u001b[39m\u001b[38;5;124mOneDrive\u001b[39m\u001b[38;5;124m\\\u001b[39m\u001b[38;5;124mDesktop\u001b[39m\u001b[38;5;124m\\\u001b[39m\u001b[38;5;124mData Stuffs\u001b[39m\u001b[38;5;124m\\\u001b[39m\u001b[38;5;124mPython_Things\u001b[39m\u001b[38;5;124m\\\u001b[39m\u001b[38;5;124mCrypto_Web_Puller\u001b[39m\u001b[38;5;124m\\\u001b[39m\u001b[38;5;124mCrypto_Automated_Pull.csv\u001b[39m\u001b[38;5;124m\"\u001b[39m\n",
      "File \u001b[1;32m~\\anaconda3\\Lib\\site-packages\\selenium\\webdriver\\chromium\\webdriver.py:224\u001b[0m, in \u001b[0;36mChromiumDriver.quit\u001b[1;34m(self)\u001b[0m\n\u001b[0;32m    222\u001b[0m     \u001b[38;5;28;01mpass\u001b[39;00m\n\u001b[0;32m    223\u001b[0m \u001b[38;5;28;01mfinally\u001b[39;00m:\n\u001b[1;32m--> 224\u001b[0m     \u001b[38;5;28mself\u001b[39m\u001b[38;5;241m.\u001b[39mservice\u001b[38;5;241m.\u001b[39mstop()\n",
      "File \u001b[1;32m~\\anaconda3\\Lib\\site-packages\\selenium\\webdriver\\common\\service.py:150\u001b[0m, in \u001b[0;36mService.stop\u001b[1;34m(self)\u001b[0m\n\u001b[0;32m    148\u001b[0m \u001b[38;5;28;01mif\u001b[39;00m \u001b[38;5;28mself\u001b[39m\u001b[38;5;241m.\u001b[39mprocess \u001b[38;5;129;01mis\u001b[39;00m \u001b[38;5;129;01mnot\u001b[39;00m \u001b[38;5;28;01mNone\u001b[39;00m \u001b[38;5;129;01mand\u001b[39;00m \u001b[38;5;28mself\u001b[39m\u001b[38;5;241m.\u001b[39mprocess\u001b[38;5;241m.\u001b[39mpoll() \u001b[38;5;129;01mis\u001b[39;00m \u001b[38;5;28;01mNone\u001b[39;00m:\n\u001b[0;32m    149\u001b[0m     \u001b[38;5;28;01mtry\u001b[39;00m:\n\u001b[1;32m--> 150\u001b[0m         \u001b[38;5;28mself\u001b[39m\u001b[38;5;241m.\u001b[39msend_remote_shutdown_command()\n\u001b[0;32m    151\u001b[0m     \u001b[38;5;28;01mexcept\u001b[39;00m \u001b[38;5;167;01mTypeError\u001b[39;00m:\n\u001b[0;32m    152\u001b[0m         \u001b[38;5;28;01mpass\u001b[39;00m\n",
      "File \u001b[1;32m~\\anaconda3\\Lib\\site-packages\\selenium\\webdriver\\common\\service.py:135\u001b[0m, in \u001b[0;36mService.send_remote_shutdown_command\u001b[1;34m(self)\u001b[0m\n\u001b[0;32m    132\u001b[0m     \u001b[38;5;28;01mreturn\u001b[39;00m\n\u001b[0;32m    134\u001b[0m \u001b[38;5;28;01mfor\u001b[39;00m _ \u001b[38;5;129;01min\u001b[39;00m \u001b[38;5;28mrange\u001b[39m(\u001b[38;5;241m30\u001b[39m):\n\u001b[1;32m--> 135\u001b[0m     \u001b[38;5;28;01mif\u001b[39;00m \u001b[38;5;129;01mnot\u001b[39;00m \u001b[38;5;28mself\u001b[39m\u001b[38;5;241m.\u001b[39mis_connectable():\n\u001b[0;32m    136\u001b[0m         \u001b[38;5;28;01mbreak\u001b[39;00m\n\u001b[0;32m    137\u001b[0m     sleep(\u001b[38;5;241m1\u001b[39m)\n",
      "File \u001b[1;32m~\\anaconda3\\Lib\\site-packages\\selenium\\webdriver\\common\\service.py:124\u001b[0m, in \u001b[0;36mService.is_connectable\u001b[1;34m(self)\u001b[0m\n\u001b[0;32m    121\u001b[0m \u001b[38;5;28;01mdef\u001b[39;00m \u001b[38;5;21mis_connectable\u001b[39m(\u001b[38;5;28mself\u001b[39m) \u001b[38;5;241m-\u001b[39m\u001b[38;5;241m>\u001b[39m \u001b[38;5;28mbool\u001b[39m:\n\u001b[0;32m    122\u001b[0m \u001b[38;5;250m    \u001b[39m\u001b[38;5;124;03m\"\"\"Establishes a socket connection to determine if the service running\u001b[39;00m\n\u001b[0;32m    123\u001b[0m \u001b[38;5;124;03m    on the port is accessible.\"\"\"\u001b[39;00m\n\u001b[1;32m--> 124\u001b[0m     \u001b[38;5;28;01mreturn\u001b[39;00m utils\u001b[38;5;241m.\u001b[39mis_connectable(\u001b[38;5;28mself\u001b[39m\u001b[38;5;241m.\u001b[39mport)\n",
      "File \u001b[1;32m~\\anaconda3\\Lib\\site-packages\\selenium\\webdriver\\common\\utils.py:98\u001b[0m, in \u001b[0;36mis_connectable\u001b[1;34m(port, host)\u001b[0m\n\u001b[0;32m     96\u001b[0m socket_ \u001b[38;5;241m=\u001b[39m \u001b[38;5;28;01mNone\u001b[39;00m\n\u001b[0;32m     97\u001b[0m \u001b[38;5;28;01mtry\u001b[39;00m:\n\u001b[1;32m---> 98\u001b[0m     socket_ \u001b[38;5;241m=\u001b[39m socket\u001b[38;5;241m.\u001b[39mcreate_connection((host, port), \u001b[38;5;241m1\u001b[39m)\n\u001b[0;32m     99\u001b[0m     result \u001b[38;5;241m=\u001b[39m \u001b[38;5;28;01mTrue\u001b[39;00m\n\u001b[0;32m    100\u001b[0m \u001b[38;5;28;01mexcept\u001b[39;00m _is_connectable_exceptions:\n",
      "File \u001b[1;32m~\\anaconda3\\Lib\\socket.py:857\u001b[0m, in \u001b[0;36mcreate_connection\u001b[1;34m(address, timeout, source_address, all_errors)\u001b[0m\n\u001b[0;32m    855\u001b[0m \u001b[38;5;28;01mexcept\u001b[39;00m error \u001b[38;5;28;01mas\u001b[39;00m exc:\n\u001b[0;32m    856\u001b[0m     \u001b[38;5;28;01mif\u001b[39;00m \u001b[38;5;129;01mnot\u001b[39;00m all_errors:\n\u001b[1;32m--> 857\u001b[0m         exceptions\u001b[38;5;241m.\u001b[39mclear()  \u001b[38;5;66;03m# raise only the last error\u001b[39;00m\n\u001b[0;32m    858\u001b[0m     exceptions\u001b[38;5;241m.\u001b[39mappend(exc)\n\u001b[0;32m    859\u001b[0m     \u001b[38;5;28;01mif\u001b[39;00m sock \u001b[38;5;129;01mis\u001b[39;00m \u001b[38;5;129;01mnot\u001b[39;00m \u001b[38;5;28;01mNone\u001b[39;00m:\n",
      "\u001b[1;31mKeyboardInterrupt\u001b[0m: "
     ]
    }
   ],
   "source": [
    "# Now that the function is defined, we can do a while loop\n",
    "\n",
    "while True:\n",
    "    automated_crypto_pull()\n",
    "    time.sleep(7)"
   ]
  },
  {
   "cell_type": "code",
   "execution_count": null,
   "id": "63d38539-95bb-4c7a-8730-edaf8a546c53",
   "metadata": {},
   "outputs": [],
   "source": []
  },
  {
   "cell_type": "code",
   "execution_count": null,
   "id": "b3821d3e-11b6-4fbf-bdef-99e3c70ec269",
   "metadata": {},
   "outputs": [],
   "source": []
  },
  {
   "cell_type": "code",
   "execution_count": null,
   "id": "c9707d22-09ff-441c-9f85-8f70563dd272",
   "metadata": {},
   "outputs": [],
   "source": []
  }
 ],
 "metadata": {
  "kernelspec": {
   "display_name": "Python [conda env:base] *",
   "language": "python",
   "name": "conda-base-py"
  },
  "language_info": {
   "codemirror_mode": {
    "name": "ipython",
    "version": 3
   },
   "file_extension": ".py",
   "mimetype": "text/x-python",
   "name": "python",
   "nbconvert_exporter": "python",
   "pygments_lexer": "ipython3",
   "version": "3.12.7"
  }
 },
 "nbformat": 4,
 "nbformat_minor": 5
}
