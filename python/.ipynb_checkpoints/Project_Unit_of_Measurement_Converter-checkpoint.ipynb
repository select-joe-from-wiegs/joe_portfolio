{
 "cells": [
  {
   "cell_type": "markdown",
   "id": "a711dfb4-48cf-40df-a0b1-c2a196cbf8eb",
   "metadata": {},
   "source": [
    "# Unit of Measurement Converter\n",
    "\n",
    "This project was built as part of Alex the Analyst's Python for Beginners course.  \n",
    "I extended the original version to allow float inputs and handle multiple variants of unit names (e.g., \"inches\", \"inch\", \"in\").  \n",
    "\n",
    "The converter allows users to convert between inches, feet, and yards through a simple console interface.\n",
    "\n",
    "---\n",
    "\n",
    "## Project Overview\n",
    "\n",
    "The goal of this project was to build a basic interactive Unit of Measurement Converter using Python `input()` and `print()` statements.  \n",
    "\n",
    "I customized the project to:\n",
    "- Support float inputs for more accurate conversions.\n",
    "- Accept multiple variations of unit names in lowercase or abbreviated form.\n",
    "\n",
    "---\n",
    "\n",
    "## Methodology\n",
    "\n",
    "Approach:\n",
    "- Use `input()` to collect starting unit, target unit, and value.\n",
    "- Normalize input strings to lowercase for flexible matching.\n",
    "- Use conditional logic (`if` / `elif` / `else`) to handle valid and invalid conversions.\n",
    "- Perform arithmetic calculations to convert between units.\n",
    "\n",
    "---\n",
    "\n",
    "## Final Code\n"
   ]
  },
  {
   "cell_type": "code",
   "execution_count": 1,
   "id": "eafac461-3da9-40d8-b15b-343242cbe82e",
   "metadata": {},
   "outputs": [
    {
     "name": "stdin",
     "output_type": "stream",
     "text": [
      "Enter Starting Unit of Measurement (inches, feet, yards):  in\n",
      "Enter Unit of Measurement to Convert to (inches, feet, yards):  feet\n",
      "Enter Starting Measurement in Inches:  184\n"
     ]
    },
    {
     "name": "stdout",
     "output_type": "stream",
     "text": [
      "184.0 inches = 15.3 feet\n"
     ]
    }
   ],
   "source": [
    "# Unit of Measurement Converter with float handling\n",
    "\n",
    "convert_from = input(\"Enter Starting Unit of Measurement (inches, feet, yards): \")\n",
    "\n",
    "convert_to = input(\"Enter Unit of Measurement to Convert to (inches, feet, yards): \")\n",
    "\n",
    "if convert_from.lower() in [\"inches\", \"in\", \"inch\"]:\n",
    "    number_of_inches = float(input(\"Enter Starting Measurement in Inches: \"))\n",
    "    if convert_to.lower() in [\"feet\", \"ft\", \"foot\"]:\n",
    "        print(number_of_inches, 'inches =', round(number_of_inches / 12, 1), 'feet')\n",
    "    elif convert_to.lower() in [\"yards\", \"yd\", \"yds\", \"yard\"]:\n",
    "        print(number_of_inches, 'inches =', round(number_of_inches / 36, 1), 'yards')\n",
    "    else:\n",
    "        print(\"Sorry, your input is not recognized by the Converter. Please enter either Inches, Feet, or Yards.\")\n",
    "\n",
    "elif convert_from.lower() in [\"feet\", \"ft\", \"foot\"]:\n",
    "    number_of_feet = float(input(\"Enter Starting Measurement in Feet: \"))\n",
    "    if convert_to.lower() in [\"inches\", \"in\", \"inch\"]:\n",
    "        print(number_of_feet, 'feet =', round(number_of_feet * 12, 1), 'inches')\n",
    "    elif convert_to.lower() in [\"yards\", \"yd\", \"yds\", \"yard\"]:\n",
    "        print(number_of_feet, 'feet =', round(number_of_feet / 3, 1), 'yards')\n",
    "    else:\n",
    "        print(\"Sorry, your input is not recognized by the Converter. Please enter either Inches, Feet, or Yards.\")\n",
    "\n",
    "elif convert_from.lower() in [\"yards\", \"yd\", \"yds\", \"yard\"]:\n",
    "    number_of_yards = float(input(\"Enter Starting Measurement in Yards: \"))\n",
    "    if convert_to.lower() in [\"inches\", \"in\", \"inch\"]:\n",
    "        print(number_of_yards, 'yards =', round(number_of_yards * 36, 1), 'inches')\n",
    "    elif convert_to.lower() in [\"feet\", \"ft\", \"foot\"]:\n",
    "        print(number_of_yards, 'yards =', round(number_of_yards * 3, 1), 'feet')\n",
    "    else:\n",
    "        print(\"Sorry, your input is not recognized by the Converter. Please enter either Inches, Feet, or Yards.\")\n",
    "else:\n",
    "    print(\"Sorry, your input is not recognized by the Converter. Please enter either Inches, Feet, or Yards.\")"
   ]
  },
  {
   "cell_type": "markdown",
   "id": "eae4c9c3-39f9-45a7-8678-f8a32cb77f07",
   "metadata": {},
   "source": [
    "## Next Steps\n",
    "\n",
    "Potential improvements:\n",
    "- Add support for more units (e.g., centimeters, meters, miles)\n",
    "- Create a loop so that the user can perform multiple conversions without restarting the script\n",
    "- Package the converter as a reusable function"
   ]
  },
  {
   "cell_type": "code",
   "execution_count": null,
   "id": "f5a77b0a-8401-4d0b-a670-69918ceadd14",
   "metadata": {},
   "outputs": [],
   "source": []
  },
  {
   "cell_type": "code",
   "execution_count": null,
   "id": "ce89bb9e-2fec-4514-8f19-5ce5f76c34b6",
   "metadata": {},
   "outputs": [],
   "source": []
  },
  {
   "cell_type": "code",
   "execution_count": null,
   "id": "80c07144-b394-4fe7-97b7-baf466ea733a",
   "metadata": {},
   "outputs": [],
   "source": []
  },
  {
   "cell_type": "code",
   "execution_count": null,
   "id": "a2b77dd1-b46c-4855-b303-2bf11b03d9e7",
   "metadata": {},
   "outputs": [],
   "source": []
  },
  {
   "cell_type": "code",
   "execution_count": null,
   "id": "06cb694b-5283-4426-bd4c-9283b5a3610d",
   "metadata": {},
   "outputs": [],
   "source": []
  },
  {
   "cell_type": "code",
   "execution_count": null,
   "id": "ad3ed359-38f0-472f-a1be-226ee3a04d10",
   "metadata": {},
   "outputs": [],
   "source": []
  },
  {
   "cell_type": "code",
   "execution_count": null,
   "id": "33e4f4cd-e2d9-413c-a4dd-2b4f59cd5e8a",
   "metadata": {},
   "outputs": [],
   "source": []
  },
  {
   "cell_type": "code",
   "execution_count": null,
   "id": "24db4c73-91d6-46d2-bec3-d25f9214bec4",
   "metadata": {},
   "outputs": [],
   "source": []
  },
  {
   "cell_type": "code",
   "execution_count": null,
   "id": "a308344b-276c-4834-b15b-e98d169e72af",
   "metadata": {},
   "outputs": [],
   "source": []
  },
  {
   "cell_type": "code",
   "execution_count": null,
   "id": "6747c464-d542-49bd-82ec-8cd1bf711a5c",
   "metadata": {},
   "outputs": [],
   "source": []
  },
  {
   "cell_type": "code",
   "execution_count": null,
   "id": "8c50d70c-e3f0-4645-8718-61395e7cd4fb",
   "metadata": {},
   "outputs": [],
   "source": []
  }
 ],
 "metadata": {
  "kernelspec": {
   "display_name": "Python [conda env:base] *",
   "language": "python",
   "name": "conda-base-py"
  },
  "language_info": {
   "codemirror_mode": {
    "name": "ipython",
    "version": 3
   },
   "file_extension": ".py",
   "mimetype": "text/x-python",
   "name": "python",
   "nbconvert_exporter": "python",
   "pygments_lexer": "ipython3",
   "version": "3.12.7"
  }
 },
 "nbformat": 4,
 "nbformat_minor": 5
}
