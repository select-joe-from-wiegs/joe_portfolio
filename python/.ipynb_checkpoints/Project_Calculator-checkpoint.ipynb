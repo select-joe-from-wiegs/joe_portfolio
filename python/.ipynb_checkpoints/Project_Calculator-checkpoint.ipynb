{
 "cells": [
  {
   "cell_type": "markdown",
   "id": "7da13b85-7a4a-4198-9b06-568b0c5ec009",
   "metadata": {},
   "source": [
    "# Python Calculator\n",
    "\n",
    "This project was built as part of Alex the Analyst's Python for Beginners course.  \n",
    "\n",
    "The calculator allows users to select an operation to perform basic arithmetic and input two numbers.\n",
    "\n",
    "---\n",
    "\n",
    "## Project Overview\n",
    "\n",
    "The calculator allows users to select an operation and input two numbers through a console-based interactive prompt.\n",
    "\n",
    "---\n",
    "\n",
    "## Final Code\n"
   ]
  },
  {
   "cell_type": "code",
   "execution_count": 1,
   "id": "f615a48c-78b7-4b5f-8561-31ee1f0776a2",
   "metadata": {},
   "outputs": [
    {
     "name": "stdin",
     "output_type": "stream",
     "text": [
      "Enter A for addition, S for subtraction, M for multiplication, or D for division:  m\n",
      "Enter first number:  2080\n",
      "Enter second number:  30\n"
     ]
    },
    {
     "name": "stdout",
     "output_type": "stream",
     "text": [
      "2080.0 * 30.0 = 62400.0\n"
     ]
    },
    {
     "name": "stdin",
     "output_type": "stream",
     "text": [
      "Want to do another calculation? Enter y/n: y\n",
      "Enter A for addition, S for subtraction, M for multiplication, or D for division:  m\n",
      "Enter first number:  2080\n",
      "Enter second number:  40\n"
     ]
    },
    {
     "name": "stdout",
     "output_type": "stream",
     "text": [
      "2080.0 * 40.0 = 83200.0\n"
     ]
    },
    {
     "name": "stdin",
     "output_type": "stream",
     "text": [
      "Want to do another calculation? Enter y/n: n\n"
     ]
    }
   ],
   "source": [
    "def add(x,y):\n",
    "    return x + y\n",
    "def subtract(x,y):\n",
    "    return x - y\n",
    "def multiply(x,y):\n",
    "    return x * y\n",
    "def divide(x,y):\n",
    "    return x / y\n",
    "\n",
    "while True:\n",
    "    choice = input('Enter A for addition, S for subtraction, M for multiplication, or D for division: ')\n",
    "    if choice.lower() in ['a', 's', 'm', 'd']:\n",
    "        num1 = float(input('Enter first number: '))\n",
    "        num2 = float(input('Enter second number: '))\n",
    "        if choice.lower() == 'a':\n",
    "            print(f\"{num1} + {num2} = {add(num1,num2)}\")\n",
    "        elif choice.lower() == 's':\n",
    "            print(f\"{num1} - {num2} = {subtract(num1, num2)}\")\n",
    "        elif choice.lower() == 'm':\n",
    "            print(f\"{num1} * {num2} = {multiply(num1, num2)}\")\n",
    "        elif choice.lower() == 'd':\n",
    "            print(f\"{num1} / {num2} = {divide(num1, num2)}\")\n",
    "    else:\n",
    "        print('Sorry, your input is not recognized by the calculator. Please try again.')\n",
    "    next_calculation = input('Want to do another calculation? Enter y/n:')\n",
    "    if next_calculation.lower() in ['n', 'no']:\n",
    "        break"
   ]
  },
  {
   "cell_type": "markdown",
   "id": "76e52194-6ea7-428c-977b-dede4fe3e3f6",
   "metadata": {},
   "source": [
    "## Next Steps\n",
    "\n",
    "Potential improvements:\n",
    "- Add error handling for invalid input (e.g., dividing by zero)\n",
    "- Allow the user to perform multiple calculations in one run\n",
    "- Add support for more advanced operations (modulus, square root, etc.)"
   ]
  },
  {
   "cell_type": "code",
   "execution_count": null,
   "id": "c2910b83-2914-4034-b941-c1c3378cc919",
   "metadata": {},
   "outputs": [],
   "source": []
  },
  {
   "cell_type": "code",
   "execution_count": null,
   "id": "b78df7ff-c9ef-41c4-9cc0-1336fe878bda",
   "metadata": {},
   "outputs": [],
   "source": []
  },
  {
   "cell_type": "code",
   "execution_count": null,
   "id": "12187d41-64bf-4a58-80fb-c32b4d25cffe",
   "metadata": {},
   "outputs": [],
   "source": []
  },
  {
   "cell_type": "code",
   "execution_count": null,
   "id": "acc9d37e-2c84-42c8-8644-f1cb3ac20028",
   "metadata": {},
   "outputs": [],
   "source": []
  },
  {
   "cell_type": "code",
   "execution_count": null,
   "id": "daa6200e-4997-4811-bf6b-bdea33ba860b",
   "metadata": {},
   "outputs": [],
   "source": []
  },
  {
   "cell_type": "code",
   "execution_count": null,
   "id": "f8f4f906-ead9-4854-a58a-d36cc24215fa",
   "metadata": {},
   "outputs": [],
   "source": []
  },
  {
   "cell_type": "code",
   "execution_count": null,
   "id": "c3c61b5e-8e91-46b1-bef7-5fddde9dd42f",
   "metadata": {},
   "outputs": [],
   "source": []
  },
  {
   "cell_type": "code",
   "execution_count": null,
   "id": "92708323-cb99-49e5-ab26-1f7bc6759fba",
   "metadata": {},
   "outputs": [],
   "source": []
  },
  {
   "cell_type": "code",
   "execution_count": null,
   "id": "3518d5fd-4603-44ee-b0f6-01ee368ed8ff",
   "metadata": {},
   "outputs": [],
   "source": []
  },
  {
   "cell_type": "code",
   "execution_count": null,
   "id": "4bbb05b0-e1a8-4eea-8f35-09f7e7f130d1",
   "metadata": {},
   "outputs": [],
   "source": []
  },
  {
   "cell_type": "code",
   "execution_count": null,
   "id": "ca683aa7-efff-469c-be95-bf954ebe8aad",
   "metadata": {},
   "outputs": [],
   "source": []
  }
 ],
 "metadata": {
  "kernelspec": {
   "display_name": "Python [conda env:base] *",
   "language": "python",
   "name": "conda-base-py"
  },
  "language_info": {
   "codemirror_mode": {
    "name": "ipython",
    "version": 3
   },
   "file_extension": ".py",
   "mimetype": "text/x-python",
   "name": "python",
   "nbconvert_exporter": "python",
   "pygments_lexer": "ipython3",
   "version": "3.12.7"
  }
 },
 "nbformat": 4,
 "nbformat_minor": 5
}
