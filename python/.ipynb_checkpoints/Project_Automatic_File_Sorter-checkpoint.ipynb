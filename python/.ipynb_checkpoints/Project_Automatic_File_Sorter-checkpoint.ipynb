{
 "cells": [
  {
   "cell_type": "markdown",
   "id": "05d80d26-d964-46ae-a5db-150afa7a1df7",
   "metadata": {},
   "source": [
    "# Automatic File Sorter\n",
    "\n",
    "This project was built as part of a hands-on Python project on the Analyst Builder platform.  \n",
    "The script automatically sorts files into subfolders based on their file type using the `os` and `shutil` libraries.  \n",
    "\n",
    "I created this project to explore how Python can interact with a computer's file system and perform basic automation.\n",
    "\n",
    "---\n",
    "\n",
    "## Project Overview\n",
    "\n",
    "The script scans a target folder and moves each file into a subfolder based on its extension (e.g., `.txt`, `.pdf`, `.jpg`).  \n",
    "\n",
    "**NOTE:**  \n",
    "To protect my privacy, all personal file paths and real filenames have been removed.  \n",
    "This version of the notebook uses a demo folder and dummy files for testing purposes.\n",
    "This script was originally used to clean up my own Downloads folder, but this version uses a demo folder and dummy files to demonstrate functionality in a safe, reproducible way."
   ]
  },
  {
   "cell_type": "code",
   "execution_count": 1,
   "id": "bb5d8c98-6cdb-4476-9359-f87866934a3a",
   "metadata": {},
   "outputs": [],
   "source": [
    "import os\n",
    "\n",
    "# Create a demo folder for testing\n",
    "os.makedirs('demo_folder', exist_ok=True)\n",
    "\n",
    "# Create some fake files to demonstrate sorting\n",
    "demo_files = ['report.pdf', 'photo.jpg', 'notes.txt', 'data.csv']\n",
    "for file in demo_files:\n",
    "    with open(os.path.join('demo_folder', file), 'w') as f:\n",
    "        f.write(\"Demo content\")"
   ]
  },
  {
   "cell_type": "code",
   "execution_count": 2,
   "id": "ed10286c-d295-4834-a4a8-c2c4b74a5c0e",
   "metadata": {},
   "outputs": [],
   "source": [
    "import shutil\n",
    "\n",
    "source_folder = 'demo_folder'\n",
    "\n",
    "# Loop through each file in the folder\n",
    "for filename in os.listdir(source_folder):\n",
    "    file_path = os.path.join(source_folder, filename)\n",
    "    if os.path.isfile(file_path):\n",
    "        # Get file extension (e.g., .txt, .pdf)\n",
    "        _, extension = os.path.splitext(filename)\n",
    "        extension = extension[1:]  # Remove the dot\n",
    "\n",
    "        # Create a subfolder for the file type if it doesn't exist\n",
    "        new_folder = os.path.join(source_folder, extension)\n",
    "        os.makedirs(new_folder, exist_ok=True)\n",
    "\n",
    "        # Move the file into the appropriate folder\n",
    "        shutil.move(file_path, os.path.join(new_folder, filename))"
   ]
  },
  {
   "cell_type": "code",
   "execution_count": 3,
   "id": "8fa7dbee-7b92-453a-ba67-9781c2306a3f",
   "metadata": {},
   "outputs": [
    {
     "name": "stdout",
     "output_type": "stream",
     "text": [
      "demo_folder/\n",
      "    csv/\n",
      "        data.csv\n",
      "    jpg/\n",
      "        photo.jpg\n",
      "    pdf/\n",
      "        report.pdf\n",
      "    txt/\n",
      "        notes.txt\n"
     ]
    }
   ],
   "source": [
    "# Confirm the files have been moved\n",
    "for root, dirs, files in os.walk('demo_folder'):\n",
    "    level = root.replace('demo_folder', '').count(os.sep)\n",
    "    indent = ' ' * 4 * level\n",
    "    print(f\"{indent}{os.path.basename(root)}/\")\n",
    "    for file in files:\n",
    "        print(f\"{indent}    {file}\")"
   ]
  },
  {
   "cell_type": "markdown",
   "id": "2faeac82-a2a1-4c0e-ae3e-ef399c903e3f",
   "metadata": {},
   "source": [
    "## Next Steps\n",
    "\n",
    "Potential improvements:\n",
    "- Add a logging system to track moved files\n",
    "- Handle duplicate filenames with rename logic\n",
    "- Allow recursive sorting inside nested folders\n",
    "- Build a GUI or CLI wrapper around the script"
   ]
  },
  {
   "cell_type": "code",
   "execution_count": null,
   "id": "6ed05ce3-b937-4292-8223-375fca19f88b",
   "metadata": {},
   "outputs": [],
   "source": []
  }
 ],
 "metadata": {
  "kernelspec": {
   "display_name": "Python [conda env:base] *",
   "language": "python",
   "name": "conda-base-py"
  },
  "language_info": {
   "codemirror_mode": {
    "name": "ipython",
    "version": 3
   },
   "file_extension": ".py",
   "mimetype": "text/x-python",
   "name": "python",
   "nbconvert_exporter": "python",
   "pygments_lexer": "ipython3",
   "version": "3.12.7"
  }
 },
 "nbformat": 4,
 "nbformat_minor": 5
}
